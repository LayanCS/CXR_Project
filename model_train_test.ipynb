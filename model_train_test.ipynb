{
  "cells": [
    {
      "cell_type": "markdown",
      "metadata": {
        "id": "4Q4nYafWmjGJ"
      },
      "source": [
        "Name: Layan Alabdullatef\n",
        "\n",
        "Date: December 3rd, 2023"
      ]
    },
    {
      "cell_type": "code",
      "execution_count": 1,
      "metadata": {
        "id": "XbnFpB6umjGO"
      },
      "outputs": [],
      "source": [
        "# imports\n",
        "import numpy as np\n",
        "import pandas as pd\n",
        "import matplotlib.pyplot as plt\n",
        "import os\n",
        "from PIL import Image\n",
        "from sklearn.model_selection import train_test_split\n",
        "from sklearn.metrics import accuracy_score\n",
        "import transformers\n",
        "import torch\n",
        "import torchvision\n",
        "import torchvision.transforms as transforms\n",
        "from torch.utils.data import DataLoader\n",
        "import torch.nn as nn\n",
        "from tqdm import tqdm"
      ]
    },
    {
      "cell_type": "markdown",
      "source": [
        "**The full code is available on the github repository:** https://github.com/LayanCS/CXR_Project"
      ],
      "metadata": {
        "id": "yIw6rlsf3hxL"
      }
    },
    {
      "cell_type": "code",
      "execution_count": 2,
      "metadata": {
        "id": "-wMfJf6ymjGQ"
      },
      "outputs": [],
      "source": [
        "# references:\n",
        "# https://machinelearningmastery.com/deep-learning-caption-generation-models/\n",
        "# https://medium.com/@stepanulyanin/captioning-images-with-pytorch-bc592e5fd1a3\n",
        "# https://github.com/cambridgeltl/visual-med-alpaca/tree/2d49088f49da9da7f175165598a1f4beed75961f\n",
        "# (paper) Show, Attend and Tell https://arxiv.org/pdf/1502.03044v3.pdf\n",
        "# (paper) GIT: A Generative Image-to-text Transformer for Vision and Language: https://arxiv.org/pdf/2205.14100v5.pdf"
      ]
    },
    {
      "cell_type": "code",
      "execution_count": 3,
      "metadata": {
        "id": "kOPpm0c0mjGQ"
      },
      "outputs": [],
      "source": [
        "device = torch.device(\"cuda\" if torch.cuda.is_available() else \"cpu\") # use GPU when available"
      ]
    },
    {
      "cell_type": "code",
      "source": [
        "from google.colab import drive # needed when running the code on Google Colab to access the dataste\n",
        "drive.mount('/content/drive/')"
      ],
      "metadata": {
        "colab": {
          "base_uri": "https://localhost:8080/"
        },
        "id": "mPqfwltjm8Hi",
        "outputId": "1dbd6c49-b24f-4ac0-b9dd-14d8a652f4f4"
      },
      "execution_count": 4,
      "outputs": [
        {
          "output_type": "stream",
          "name": "stdout",
          "text": [
            "Drive already mounted at /content/drive/; to attempt to forcibly remount, call drive.mount(\"/content/drive/\", force_remount=True).\n"
          ]
        }
      ]
    },
    {
      "cell_type": "markdown",
      "metadata": {
        "id": "cc3FVRjemjGR"
      },
      "source": [
        "# Load Dataset"
      ]
    },
    {
      "cell_type": "markdown",
      "source": [
        "Full code available in the *'data_preparation.ipynb'* notebook"
      ],
      "metadata": {
        "id": "x5-HdGYgYi1H"
      }
    },
    {
      "cell_type": "code",
      "execution_count": 5,
      "metadata": {
        "id": "D7nlPxKdmjGS"
      },
      "outputs": [],
      "source": [
        "root = '/content/drive/MyDrive/Fall 2023/EE 475/project/UI_chestxray/images/' # path for the images"
      ]
    },
    {
      "cell_type": "markdown",
      "metadata": {
        "id": "VhaY3tXsmjGW"
      },
      "source": [
        "### Filter the Dataset"
      ]
    },
    {
      "cell_type": "markdown",
      "metadata": {
        "id": "xiEVlPpjmjGW"
      },
      "source": [
        "I'm filtering the dataset based on the captions (some captions cannot be used) and image view (as each patient has two views and I only need one for the model)"
      ]
    },
    {
      "cell_type": "markdown",
      "source": [
        "Full code available in the *'data_preparation.ipynb'* notebook"
      ],
      "metadata": {
        "id": "jwL2LUYyY5V2"
      }
    },
    {
      "cell_type": "markdown",
      "metadata": {
        "id": "BFhkytxmmjGa"
      },
      "source": [
        "### Prepare the Dataset CSV\n",
        "* Select only needed columns\n",
        "* Select a balanced subset of 600 rows (300 from each class normal/abnormal)"
      ]
    },
    {
      "cell_type": "markdown",
      "source": [
        "Full code available in the *'data_preparation.ipynb'* notebook"
      ],
      "metadata": {
        "id": "aAcnmZfNY61g"
      }
    },
    {
      "cell_type": "code",
      "execution_count": null,
      "metadata": {
        "id": "GZ_78V_ImjGc",
        "outputId": "303324f3-d1a4-44e2-beaa-7b2d7630f1ba"
      },
      "outputs": [
        {
          "data": {
            "text/html": [
              "<div>\n",
              "<style scoped>\n",
              "    .dataframe tbody tr th:only-of-type {\n",
              "        vertical-align: middle;\n",
              "    }\n",
              "\n",
              "    .dataframe tbody tr th {\n",
              "        vertical-align: top;\n",
              "    }\n",
              "\n",
              "    .dataframe thead th {\n",
              "        text-align: right;\n",
              "    }\n",
              "</style>\n",
              "<table border=\"1\" class=\"dataframe\">\n",
              "  <thead>\n",
              "    <tr style=\"text-align: right;\">\n",
              "      <th></th>\n",
              "      <th>index</th>\n",
              "      <th>uid</th>\n",
              "      <th>filename</th>\n",
              "      <th>projection</th>\n",
              "      <th>status</th>\n",
              "      <th>caption</th>\n",
              "    </tr>\n",
              "  </thead>\n",
              "  <tbody>\n",
              "    <tr>\n",
              "      <th>0</th>\n",
              "      <td>0</td>\n",
              "      <td>2</td>\n",
              "      <td>2_IM-0652-1001.dcm.png</td>\n",
              "      <td>Frontal</td>\n",
              "      <td>abnormal</td>\n",
              "      <td>No acute pulmonary findings.</td>\n",
              "    </tr>\n",
              "    <tr>\n",
              "      <th>1</th>\n",
              "      <td>1</td>\n",
              "      <td>3</td>\n",
              "      <td>3_IM-1384-1001.dcm.png</td>\n",
              "      <td>Frontal</td>\n",
              "      <td>normal</td>\n",
              "      <td>No displaced rib fractures, pneumothorax, or p...</td>\n",
              "    </tr>\n",
              "    <tr>\n",
              "      <th>2</th>\n",
              "      <td>2</td>\n",
              "      <td>4</td>\n",
              "      <td>4_IM-2050-1001.dcm.png</td>\n",
              "      <td>Frontal</td>\n",
              "      <td>abnormal</td>\n",
              "      <td>1. Bullous emphysema and interstitial fibrosis...</td>\n",
              "    </tr>\n",
              "    <tr>\n",
              "      <th>3</th>\n",
              "      <td>3</td>\n",
              "      <td>5</td>\n",
              "      <td>5_IM-2117-1003002.dcm.png</td>\n",
              "      <td>Frontal</td>\n",
              "      <td>abnormal</td>\n",
              "      <td>No acute cardiopulmonary abnormality.</td>\n",
              "    </tr>\n",
              "    <tr>\n",
              "      <th>4</th>\n",
              "      <td>4</td>\n",
              "      <td>6</td>\n",
              "      <td>6_IM-2192-1001.dcm.png</td>\n",
              "      <td>Frontal</td>\n",
              "      <td>normal</td>\n",
              "      <td>No acute cardiopulmonary findings.</td>\n",
              "    </tr>\n",
              "    <tr>\n",
              "      <th>...</th>\n",
              "      <td>...</td>\n",
              "      <td>...</td>\n",
              "      <td>...</td>\n",
              "      <td>...</td>\n",
              "      <td>...</td>\n",
              "      <td>...</td>\n",
              "    </tr>\n",
              "    <tr>\n",
              "      <th>595</th>\n",
              "      <td>738</td>\n",
              "      <td>912</td>\n",
              "      <td>912_IM-2417-1001.dcm.png</td>\n",
              "      <td>Frontal</td>\n",
              "      <td>normal</td>\n",
              "      <td>1. No acute cardiopulmonary findings.</td>\n",
              "    </tr>\n",
              "    <tr>\n",
              "      <th>596</th>\n",
              "      <td>739</td>\n",
              "      <td>913</td>\n",
              "      <td>913_IM-2417-1001.dcm.png</td>\n",
              "      <td>Frontal</td>\n",
              "      <td>normal</td>\n",
              "      <td>Negative for acute cardiopulmonary disease.</td>\n",
              "    </tr>\n",
              "    <tr>\n",
              "      <th>597</th>\n",
              "      <td>743</td>\n",
              "      <td>918</td>\n",
              "      <td>918_IM-2420-4004.dcm.png</td>\n",
              "      <td>Frontal</td>\n",
              "      <td>normal</td>\n",
              "      <td>No acute abnormality. .</td>\n",
              "    </tr>\n",
              "    <tr>\n",
              "      <th>598</th>\n",
              "      <td>745</td>\n",
              "      <td>920</td>\n",
              "      <td>920_IM-2423-1001.dcm.png</td>\n",
              "      <td>Frontal</td>\n",
              "      <td>normal</td>\n",
              "      <td>No acute cardiopulmonary abnormality.</td>\n",
              "    </tr>\n",
              "    <tr>\n",
              "      <th>599</th>\n",
              "      <td>746</td>\n",
              "      <td>921</td>\n",
              "      <td>921_IM-2423-1001.dcm.png</td>\n",
              "      <td>Frontal</td>\n",
              "      <td>normal</td>\n",
              "      <td>No acute or active cardiac, pulmonary or pleur...</td>\n",
              "    </tr>\n",
              "  </tbody>\n",
              "</table>\n",
              "<p>600 rows × 6 columns</p>\n",
              "</div>"
            ],
            "text/plain": [
              "     index  uid                   filename projection    status  \\\n",
              "0        0    2     2_IM-0652-1001.dcm.png    Frontal  abnormal   \n",
              "1        1    3     3_IM-1384-1001.dcm.png    Frontal    normal   \n",
              "2        2    4     4_IM-2050-1001.dcm.png    Frontal  abnormal   \n",
              "3        3    5  5_IM-2117-1003002.dcm.png    Frontal  abnormal   \n",
              "4        4    6     6_IM-2192-1001.dcm.png    Frontal    normal   \n",
              "..     ...  ...                        ...        ...       ...   \n",
              "595    738  912   912_IM-2417-1001.dcm.png    Frontal    normal   \n",
              "596    739  913   913_IM-2417-1001.dcm.png    Frontal    normal   \n",
              "597    743  918   918_IM-2420-4004.dcm.png    Frontal    normal   \n",
              "598    745  920   920_IM-2423-1001.dcm.png    Frontal    normal   \n",
              "599    746  921   921_IM-2423-1001.dcm.png    Frontal    normal   \n",
              "\n",
              "                                               caption  \n",
              "0                         No acute pulmonary findings.  \n",
              "1    No displaced rib fractures, pneumothorax, or p...  \n",
              "2    1. Bullous emphysema and interstitial fibrosis...  \n",
              "3                No acute cardiopulmonary abnormality.  \n",
              "4                   No acute cardiopulmonary findings.  \n",
              "..                                                 ...  \n",
              "595              1. No acute cardiopulmonary findings.  \n",
              "596        Negative for acute cardiopulmonary disease.  \n",
              "597                            No acute abnormality. .  \n",
              "598              No acute cardiopulmonary abnormality.  \n",
              "599  No acute or active cardiac, pulmonary or pleur...  \n",
              "\n",
              "[600 rows x 6 columns]"
            ]
          },
          "execution_count": 149,
          "metadata": {},
          "output_type": "execute_result"
        }
      ],
      "source": [
        "df_data"
      ]
    },
    {
      "cell_type": "markdown",
      "metadata": {
        "id": "DC-3ofX1mjGi"
      },
      "source": [
        "### Separate into Train and Test"
      ]
    },
    {
      "cell_type": "code",
      "execution_count": null,
      "metadata": {
        "id": "se4DD3V4mjGj"
      },
      "outputs": [],
      "source": [
        "train_df, test_df = train_test_split(df_data, test_size=0.2) # separate into 80% train, 20% test\n",
        "# I don't take the class consideration into account here as the number is quite small to make a difference\n",
        "\n",
        "# include a validation set\n",
        "train_df, val_df = train_test_split(train_df, test_size=0.13) # 0.13 x 0.8 = 0.10 (10% of the train set)"
      ]
    },
    {
      "cell_type": "code",
      "execution_count": null,
      "metadata": {
        "id": "mmnpN2IzmjGj"
      },
      "outputs": [],
      "source": [
        "# reset the index\n",
        "train_df.reset_index(inplace=True)\n",
        "test_df.reset_index(inplace=True)\n",
        "val_df.reset_index(inplace=True)\n",
        "# save the csv\n",
        "train_df.to_csv('train_df.csv')\n",
        "test_df.to_csv('test_df.csv')\n",
        "val_df.to_csv('val_df.csv')"
      ]
    },
    {
      "cell_type": "markdown",
      "metadata": {
        "id": "x-dVRKIAmjGj"
      },
      "source": [
        "# EDA"
      ]
    },
    {
      "cell_type": "code",
      "execution_count": null,
      "metadata": {
        "id": "8KdLiURFmjGj",
        "outputId": "77dbd4f6-1cf1-4aa3-dfdf-a8ffb1ff8abe"
      },
      "outputs": [
        {
          "data": {
            "text/plain": [
              "caption\n",
              "No acute cardiopulmonary abnormality.                            29\n",
              "No acute cardiopulmonary disease.                                13\n",
              "No acute cardiopulmonary abnormalities.                          12\n",
              "No acute cardiopulmonary process.                                 9\n",
              "No acute cardiopulmonary findings.                                9\n",
              "                                                                 ..\n",
              "Negative for acute cardiopulmonary abnormality.                   1\n",
              "Normal chest exam.                                                1\n",
              "Unremarkable examination.                                         1\n",
              "No acute cardiopulmonary abnormality identified.                  1\n",
              "No acute cardiopulmonary process. No obvious rib fractures. .     1\n",
              "Name: count, Length: 85, dtype: int64"
            ]
          },
          "execution_count": 197,
          "metadata": {},
          "output_type": "execute_result"
        }
      ],
      "source": [
        "train_df[train_df.status == 'normal'].caption.value_counts() # here we see the captions used with normal images"
      ]
    },
    {
      "cell_type": "code",
      "execution_count": null,
      "metadata": {
        "id": "waddB4WBmjGj",
        "outputId": "12b1c658-f494-4437-ef71-dec014b0764f"
      },
      "outputs": [
        {
          "data": {
            "text/plain": [
              "caption\n",
              "No acute cardiopulmonary abnormality.                                                                                                                                                                                                                                                                       14\n",
              "No active disease.                                                                                                                                                                                                                                                                                           8\n",
              "No acute disease.                                                                                                                                                                                                                                                                                            7\n",
              "No acute cardiopulmonary process.                                                                                                                                                                                                                                                                            6\n",
              "1. No evidence of active disease.                                                                                                                                                                                                                                                                            5\n",
              "                                                                                                                                                                                                                                                                                                            ..\n",
              "1. Left lower lobe airspace disease and bilateral pleural effusions, left greater than right. This may be secondary to inhalational injury. Recommend followup to ensure complete resolution.                                                                                                                1\n",
              "No acute abnormalities are seen. .                                                                                                                                                                                                                                                                           1\n",
              "Emphysema without superimposed pneumonia.                                                                                                                                                                                                                                                                    1\n",
              "Right middle lobe airspace disease may reflect atelectasis or pneumonia. .                                                                                                                                                                                                                                   1\n",
              "1. Mild stable cardiomegaly and central vascular congestion. 2. Low lung volumes with elevated left hemidiaphragm and basilar subsegmental atelectasis. 3. Extensive bilateral shoulder degenerative changes with subluxation/dislocation left shoulder, possibly chronic. Suggest clinical correlation.     1\n",
              "Name: count, Length: 136, dtype: int64"
            ]
          },
          "execution_count": 198,
          "metadata": {},
          "output_type": "execute_result"
        }
      ],
      "source": [
        "train_df[train_df.status == 'abnormal'].caption.value_counts() # here we see the captions used with abnormal images"
      ]
    },
    {
      "cell_type": "markdown",
      "metadata": {
        "id": "6at2FDHgmjGk"
      },
      "source": [
        "Although the above captions are for abnormal cases the most common captions are quite similar to normal cases, this could be a challenge for the model. Further, although we selected equal number of samples from each class we can see that there are less captions for normal cases as a lot of the images are using the same caption. In contrast, there are a larger number of captions for the 300 abnormal cases we selected."
      ]
    },
    {
      "cell_type": "code",
      "execution_count": null,
      "metadata": {
        "id": "zuX-xgkKmjGk"
      },
      "outputs": [],
      "source": [
        "# investigate the size of all the images (to see if i need to resize or apply other preprocessing methods)\n",
        "size_images = dict()\n",
        "avg_width = 0\n",
        "avg_height = 0\n",
        "\n",
        "for dirpath, _, filenames in os.walk(root):\n",
        "    for path_image in filenames:\n",
        "        image = os.path.abspath(os.path.join(dirpath, path_image))\n",
        "        if path_image[-3:] == 'png': # to avoid errors\n",
        "            with Image.open(image) as img:\n",
        "                width, heigth = img.size\n",
        "                avg_width += width\n",
        "                avg_height += heigth\n",
        "                size_images[path_image] = {'width': width, 'heigth': heigth}\n",
        "\n",
        "print(f'Average width: {avg_width/len(df_data)}, Average height: {avg_height/len(df_data)}')\n",
        "print(size_images) # all the w,h values"
      ]
    },
    {
      "cell_type": "code",
      "execution_count": null,
      "metadata": {
        "id": "DrXh6-UAmjGk",
        "outputId": "4c7a1f19-a6ba-4243-d763-ad61c3a89ee4"
      },
      "outputs": [
        {
          "data": {
            "text/plain": [
              "<BarContainer object of 2 artists>"
            ]
          },
          "execution_count": 203,
          "metadata": {},
          "output_type": "execute_result"
        },
        {
          "data": {
            "image/png": "[encoded data removed]",
            "text/plain": [
              "<Figure size 640x480 with 1 Axes>"
            ]
          },
          "metadata": {},
          "output_type": "display_data"
        }
      ],
      "source": [
        "plt.title('The Distribution of Classes in The Train Set (blue), Validation Set (green) and The Test Set (orange)')\n",
        "plt.xlabel ('Classes')\n",
        "plt.ylabel ('Number of Samples')\n",
        "\n",
        "unique_labels, label_counts = np.unique(train_df.status, return_counts=True)\n",
        "plt.bar(unique_labels, label_counts)\n",
        "\n",
        "unique_test_labels, label_test_counts = np.unique(test_df.status, return_counts=True)\n",
        "plt.bar(unique_test_labels, label_test_counts)\n",
        "\n",
        "unique_val_labels, label_val_counts = np.unique(val_df.status, return_counts=True)\n",
        "plt.bar(unique_val_labels, label_val_counts)"
      ]
    },
    {
      "cell_type": "code",
      "execution_count": null,
      "metadata": {
        "id": "fOf_5XNHmjGl",
        "outputId": "c632a5d7-1441-44fa-a0ac-9c5af00073aa"
      },
      "outputs": [
        {
          "data": {
            "image/png": "[encoded data removed]",
            "text/plain": [
              "<Figure size 1200x1200 with 9 Axes>"
            ]
          },
          "metadata": {},
          "output_type": "display_data"
        }
      ],
      "source": [
        "def showImages_hist_colour(num_row, num_col, dataset):\n",
        "    '''\n",
        "    displays the histogram of the pixel values of a sample of images from the train set\n",
        "    '''\n",
        "    fig, axes = plt.subplots(num_row, num_col, figsize=(12, 12))\n",
        "    axes = axes.ravel()\n",
        "\n",
        "    for i in range(0, num_row * num_col):\n",
        "        img_path = os.path.join(root, dataset.filename[i])\n",
        "        img = Image.open(img_path).convert('L')  # Convert to grayscale\n",
        "        img = np.asarray(img)\n",
        "        label = dataset.status[i]\n",
        "\n",
        "        histogram, bin_edges = np.histogram(\n",
        "            img, bins=256, range=(0, 256)\n",
        "        )\n",
        "\n",
        "        axes[i].set_title(\"{}\".format(label))\n",
        "        axes[i].plot(bin_edges[0:-1], histogram, color='black')  # Use black color for black and white image\n",
        "        axes[i].set_xlim([0, 256])\n",
        "        plt.subplots_adjust(wspace=1, hspace=1)\n",
        "\n",
        "    plt.show()\n",
        "\n",
        "    return\n",
        "\n",
        "showImages_hist_colour(num_row = 3, num_col = 3, dataset = train_df)"
      ]
    },
    {
      "cell_type": "markdown",
      "metadata": {
        "id": "EIe-A5xBmjGm"
      },
      "source": [
        "from the figure above we can see that the intensity of the pixel values is quite high and differs from each image"
      ]
    },
    {
      "cell_type": "markdown",
      "metadata": {
        "id": "YguautQ1mjGm"
      },
      "source": [
        "# Models"
      ]
    },
    {
      "cell_type": "markdown",
      "source": [
        "* **classification model:** classifies the images into normal/abnormal using a Convolutional Neural Network\n",
        "* **image-caption generation:** fine-tune a pretrained model on the images and captions to generate relevant captions given a chest x-ray image"
      ],
      "metadata": {
        "id": "Lu3eXna6ZBK_"
      }
    },
    {
      "cell_type": "markdown",
      "source": [
        "## Classification"
      ],
      "metadata": {
        "id": "lyRT2zH5W7CM"
      }
    },
    {
      "cell_type": "markdown",
      "source": [
        "### Define the Architecture"
      ],
      "metadata": {
        "id": "fpJAgjg0XRqD"
      }
    },
    {
      "cell_type": "code",
      "source": [
        "## classification model\n",
        "\n",
        "# Model structure\n",
        "class ConvNet(nn.Module): # architecture is based on Convolutional Neural Networks (CNNs)\n",
        "    def __init__(self):\n",
        "        super(ConvNet, self).__init__()\n",
        "        self.conv1 = nn.Conv2d(3, 64, kernel_size=3, padding=1) # first convolutional layer, takes 3 channels (RGB) and outputs 64 channels,\n",
        "        # the kernel and padding are used to compute the convolutional outputs\n",
        "        self.relu1 = nn.ReLU() # activation function for the previous layer\n",
        "        self.conv2 = nn.Conv2d(64, 128, kernel_size=3, padding=1) # second convolutional layer, takes 64 inputs and outputs 128 channels\n",
        "        self.relu2 = nn.ReLU() # activation function for the previous layer\n",
        "        self.pool = nn.MaxPool2d(2, 2) # used to reduce computation during the convolutional layers\n",
        "        self.fc1 = nn.Linear(401408, 512) # first linear layer\n",
        "        self.relu3 = nn.ReLU() # activation function for the previous layer\n",
        "        self.fc2 = nn.Linear(512, 2) # second linear layer and last layer of the NN, it has 2 neurons for each class\n",
        "        # self.sigmoid = nn.Sigmoid()\n",
        "\n",
        "        # define the loss function\n",
        "        self.loss = nn.CrossEntropyLoss() # cross-entropy loss for classification\n",
        "\n",
        "    def forward(self, x):\n",
        "        '''\n",
        "        inputs:\n",
        "            self: class defined values\n",
        "            x: data point\n",
        "        outputs:\n",
        "            x: the value after going through the neural network\n",
        "        '''\n",
        "        x = self.relu1(self.conv1(x)) # convolutional layer\n",
        "        x = self.pool(x) # pooling layer\n",
        "        x = self.relu2(self.conv2(x)) # convolutional layer\n",
        "        x = self.pool(x) # pooling layer\n",
        "        x = torch.flatten(x, start_dim=1) #x.view(-1, 128 * 8 * 8) # flatten the data point (needed for the linear layers)\n",
        "        x = self.relu3(self.fc1(x)) # linear layer\n",
        "        x = self.fc2(x) # linear layer and output\n",
        "        # x = self.sigmoid(x)\n",
        "        return x\n",
        "\n",
        "net = ConvNet().to(device) # create an object 'net' of the ConvNet class\n",
        "# print(net) # print it to see the architecture of the Neural Net"
      ],
      "metadata": {
        "id": "daoNzgrFW4mm"
      },
      "execution_count": 6,
      "outputs": []
    },
    {
      "cell_type": "markdown",
      "source": [
        "### Load and Preapre the Dataset"
      ],
      "metadata": {
        "id": "0cTaL1W9XV0b"
      }
    },
    {
      "cell_type": "code",
      "source": [
        "## dataset class ##\n",
        "\n",
        "class df_2_dataset(torch.utils.data.Dataset):\n",
        "\n",
        "    def __init__(self, csv_file, root_dir, transform=None):\n",
        "        \"\"\"\n",
        "        Args:\n",
        "            csv_file (string): path to the csv file with image filenames and findings/captions\n",
        "            root_dir (string): directory with all the images\n",
        "            transform (callable, optional): optional transform to be applied on a sample\n",
        "        \"\"\"\n",
        "        self.image_files = csv_file['filename']\n",
        "        self.labels = csv_file['status']\n",
        "        self.root_dir = root_dir\n",
        "        self.transform = transform\n",
        "        self.label_mapping = {'normal': 0, 'abnormal': 1}\n",
        "\n",
        "    def __len__(self):\n",
        "        return len(self.image_files)\n",
        "\n",
        "    def __getitem__(self, idx):\n",
        "        if torch.is_tensor(idx):\n",
        "            idx = idx.tolist()\n",
        "\n",
        "        img_name = os.path.join(self.root_dir, self.image_files.iloc[idx])\n",
        "\n",
        "        image = Image.open(img_name).convert('RGB')\n",
        "        status = self.labels.iloc[idx]\n",
        "\n",
        "        # Convert string label to integer label using the mapping\n",
        "        status_int = self.label_mapping[status]\n",
        "\n",
        "        if self.transform:\n",
        "            image = self.transform(image)\n",
        "\n",
        "        sample = {'image': image, 'label': status_int}\n",
        "\n",
        "        return sample"
      ],
      "metadata": {
        "id": "QL3pq3Yle6TY"
      },
      "execution_count": 7,
      "outputs": []
    },
    {
      "cell_type": "code",
      "source": [
        "main = '/content/drive/MyDrive/Fall 2023/EE 475/project/'\n",
        "train_df = pd.read_csv(main+'train_df.csv')\n",
        "test_df = pd.read_csv(main+'test_df.csv')\n",
        "val_df = pd.read_csv(main+'val_df.csv')"
      ],
      "metadata": {
        "id": "xz60TSDKZb2Z"
      },
      "execution_count": 8,
      "outputs": []
    },
    {
      "cell_type": "code",
      "source": [
        "# define the parameters\n",
        "batch_size = 32\n",
        "num_epochs = 20\n",
        "# define the optimizer\n",
        "optimizer = torch.optim.Adam(net.parameters(), lr=0.001) # 0.001, 0.01, 0.1"
      ],
      "metadata": {
        "id": "qVbjdHFGYIRJ"
      },
      "execution_count": 10,
      "outputs": []
    },
    {
      "cell_type": "markdown",
      "source": [
        "in the cell below, I'm preparing the dataset using a custom class. I'm applying minimal transformation on the image, resize and to tensor. I had to resize the image as the original size was very large. About (2251, 2114) as it is the case with most medical images. However, for the sake of this project and to have it run smoothly on Google Colab I resized the image. Normally for medical data resizing could affect the pixel quality and thus leads to confusion or misclassification."
      ],
      "metadata": {
        "id": "ABmjS4pziJ4A"
      }
    },
    {
      "cell_type": "code",
      "source": [
        "transform = transforms.Compose([\n",
        "    transforms.Resize((224, 224)),\n",
        "    transforms.ToTensor(),\n",
        "])\n",
        "\n",
        "dataset_train = df_2_dataset(csv_file=train_df, root_dir=root, transform=transform)\n",
        "dataset_val = df_2_dataset(csv_file=val_df, root_dir=root, transform=transform)\n",
        "dataset_test = df_2_dataset(csv_file=test_df, root_dir=root, transform=transform)"
      ],
      "metadata": {
        "id": "l8tk27OoexOM"
      },
      "execution_count": 11,
      "outputs": []
    },
    {
      "cell_type": "code",
      "source": [
        "train_dataloader = DataLoader(dataset_train, shuffle=True, batch_size=batch_size, drop_last=True)\n",
        "val_dataloader = DataLoader(dataset_val, batch_size=batch_size, drop_last=True)\n",
        "test_dataloader = DataLoader(dataset_test, batch_size=batch_size, drop_last=True)"
      ],
      "metadata": {
        "id": "QPLOLCg6Zj_N"
      },
      "execution_count": 12,
      "outputs": []
    },
    {
      "cell_type": "markdown",
      "source": [
        "### Training the Model"
      ],
      "metadata": {
        "id": "dGZx-xJIXbkW"
      }
    },
    {
      "cell_type": "code",
      "source": [
        "### Training Loop ###\n",
        "print('Begin Training...')\n",
        "\n",
        "# keep track of the loss and accuracy for both training and validation\n",
        "training_loss = []\n",
        "training_accuracy = []\n",
        "validation_loss = []\n",
        "validation_accuracy = []\n",
        "\n",
        "for epoch in range(num_epochs):\n",
        "    net.train()\n",
        "    running_loss = 0.0; correct_train = 0; total_train = 0\n",
        "\n",
        "    for i, data in enumerate(train_dataloader, 0):\n",
        "        inputs, labels = data['image'], data['label']\n",
        "        inputs, labels = inputs.to(device), labels.to(device).long()\n",
        "        # zero the parameter gradients\n",
        "        net.zero_grad()\n",
        "        # Forward pass\n",
        "        outputs = net(inputs)\n",
        "        loss = net.loss(outputs, labels) # compute the objective function for the batch\n",
        "        # Backward pass and optimization\n",
        "        optimizer.zero_grad()\n",
        "        loss.backward()\n",
        "        optimizer.step()\n",
        "        # print statistics\n",
        "        running_loss += loss.item() # keep track of the loss during each iteration\n",
        "        _, predicted = torch.max(outputs.data, 1)\n",
        "        total_train += labels.size(0)\n",
        "        correct_train += (predicted == labels).sum().item()\n",
        "    # Average validation loss and accuracy for the epoch\n",
        "    avg_train_loss = running_loss / len(train_dataloader)\n",
        "    running_accuracy = correct_train / total_train\n",
        "\n",
        "    # validation phase\n",
        "    net.eval()  # Set the model to evaluation mode\n",
        "    running_loss_val = 0.0\n",
        "    correct_val = 0\n",
        "    total_val = 0\n",
        "\n",
        "    with torch.no_grad():\n",
        "        for i, data in enumerate(val_dataloader, 0):\n",
        "            inputs_val, labels_val = data['image'], data['label']\n",
        "            inputs_val, labels_val = inputs_val.to(device), labels_val.to(device).long()\n",
        "            outputs_val = net(inputs_val)\n",
        "            loss_val = net.loss(outputs_val, labels_val)\n",
        "            running_loss_val += loss_val.item()\n",
        "            _, predicted_val = torch.max(outputs_val.data, 1)\n",
        "            total_val += labels_val.size(0)\n",
        "            correct_val += (predicted_val == labels_val).sum().item()\n",
        "\n",
        "    avg_val_loss = running_loss_val / len(val_dataloader)\n",
        "    running_accuracy_val = correct_val / total_val\n",
        "\n",
        "    # print the loss after each epoch\n",
        "    print(f'Epoch {epoch + 1}, Loss: {running_loss / len(train_dataloader)}')\n",
        "    # append accuracy and loss values after each epoch\n",
        "    training_accuracy.append(running_accuracy)\n",
        "    training_loss.append(avg_train_loss)\n",
        "    validation_loss.append(avg_val_loss)\n",
        "    validation_accuracy.append(running_accuracy_val)\n",
        "\n",
        "print('Finished Training')\n",
        "\n",
        "final_training_accuracy = training_accuracy[-1]\n",
        "final_validation_accuracy = validation_accuracy[-1]\n",
        "\n",
        "print('Final Training Accuracy:', final_training_accuracy) # of the last epoch\n",
        "print('Final Validation Accuracy:', final_validation_accuracy)"
      ],
      "metadata": {
        "colab": {
          "base_uri": "https://localhost:8080/"
        },
        "id": "ds_gH8iIX7K1",
        "outputId": "111c94e6-7d6b-40ab-e253-956240451d0f"
      },
      "execution_count": 13,
      "outputs": [
        {
          "output_type": "stream",
          "name": "stdout",
          "text": [
            "Begin Training...\n",
            "Epoch 1, Loss: 6.651562887888688\n",
            "Epoch 2, Loss: 0.6922799899027898\n",
            "Epoch 3, Loss: 0.6903098729940561\n",
            "Epoch 4, Loss: 0.6880798018895663\n",
            "Epoch 5, Loss: 0.6885269834445074\n",
            "Epoch 6, Loss: 0.6858502122072073\n",
            "Epoch 7, Loss: 0.6873974066514236\n",
            "Epoch 8, Loss: 0.6887142887482276\n",
            "Epoch 9, Loss: 0.6659429944478549\n",
            "Epoch 10, Loss: 0.7273185711640578\n",
            "Epoch 11, Loss: 0.6851070890059838\n",
            "Epoch 12, Loss: 0.6805583788798406\n",
            "Epoch 13, Loss: 0.6785528017924383\n",
            "Epoch 14, Loss: 0.6735394046856806\n",
            "Epoch 15, Loss: 0.6643335360747117\n",
            "Epoch 16, Loss: 0.6678387201749362\n",
            "Epoch 17, Loss: 0.6965656097118671\n",
            "Epoch 18, Loss: 0.6949261472775385\n",
            "Epoch 19, Loss: 0.6920344187663152\n",
            "Epoch 20, Loss: 0.68381889966818\n",
            "Finished Training\n",
            "Final Training Accuracy: 0.5264423076923077\n",
            "Final Validation Accuracy: 0.46875\n"
          ]
        }
      ]
    },
    {
      "cell_type": "code",
      "source": [
        "# plot the loss and accuracy we calculated across training\n",
        "epochs = range(1, len(training_loss) + 1)\n",
        "\n",
        "plt.figure(figsize=(12, 5))\n",
        "\n",
        "# Loss\n",
        "plt.subplot(1, 2, 1)\n",
        "plt.plot(epochs, training_loss, label='Training Loss')\n",
        "plt.plot(epochs, validation_loss, label='Validation Loss', linestyle='--')\n",
        "plt.title('Training and Validation Loss')\n",
        "plt.xlabel('Epochs')\n",
        "plt.ylabel('Loss')\n",
        "plt.legend()\n",
        "\n",
        "# Accuracy\n",
        "plt.subplot(1, 2, 2)\n",
        "plt.plot(epochs, training_accuracy, label='Training Accuracy')\n",
        "plt.plot(epochs, validation_accuracy, label='Validation Accuracy', linestyle='--')\n",
        "plt.title('Training and Validation Accuracy')\n",
        "plt.xlabel('Epochs')\n",
        "plt.ylabel('Accuracy')\n",
        "plt.legend()\n",
        "\n",
        "plt.tight_layout()\n",
        "plt.show()"
      ],
      "metadata": {
        "colab": {
          "base_uri": "https://localhost:8080/",
          "height": 493
        },
        "id": "xmyj99_Avvfq",
        "outputId": "4d76f6d3-5a58-45e6-a602-bf174482f8af"
      },
      "execution_count": 14,
      "outputs": [
        {
          "output_type": "display_data",
          "data": {
            "text/plain": [
              "<Figure size 1200x500 with 2 Axes>"
            ],
            "image/png": "[encoded data removed]"
          },
          "metadata": {}
        }
      ]
    },
    {
      "cell_type": "markdown",
      "source": [
        "### Evaluate and Test"
      ],
      "metadata": {
        "id": "x9lJ-pYaXfj_"
      }
    },
    {
      "cell_type": "code",
      "source": [
        "### Testing Loop ###\n",
        "correct = 0\n",
        "total = 0\n",
        "with torch.no_grad():\n",
        "    for data in test_dataloader:\n",
        "        inputs, labels = data['image'], data['label']\n",
        "        inputs, labels = inputs.to(device), labels.to(device)\n",
        "        outputs = net(inputs)\n",
        "        _, predicted = torch.max(outputs.data, 1)\n",
        "        total += labels.size(0)\n",
        "        correct += (predicted == labels).sum().item()\n",
        "\n",
        "accuracy_test = 100 * correct / total\n",
        "print(f'Accuracy on the test set: {accuracy_test}%')"
      ],
      "metadata": {
        "colab": {
          "base_uri": "https://localhost:8080/"
        },
        "id": "irHy3Bjixbo_",
        "outputId": "4f04c2d4-a75e-46d1-dffd-b21aaa7da11e"
      },
      "execution_count": 15,
      "outputs": [
        {
          "output_type": "stream",
          "name": "stdout",
          "text": [
            "Accuracy on the test set: 51.041666666666664%\n"
          ]
        }
      ]
    },
    {
      "cell_type": "markdown",
      "source": [
        "**Observations:**\n",
        "* With a small batch size (16) and learning rate of 0.001 the model had a hard time converging, reaching less that 60% train accuracy\n",
        "* Increasing the batch size (32) and the number of epochs (50) results in the loss and train accuracy curves to plateau, reaching 100% train accuracy\n",
        "* However, despite that the test accuracy still suffers reaching only 52% which is as good as a random guess\n",
        "* Further, there's a gap between the train and validation loss/accuracy which indicates overfitting\n",
        "* Yet, increasing the learning rate to 0.01 didn't yield better results, as the model seemed stuck on the same loss value with the test accuracy being 45%\n",
        "* I believe that resizing the image to 224x224 from the original size contributed greatly to the results as the data became more challenging for the model to classify\n",
        "* Thus, adding regularization to the model and further transformations to the image might improve the current results"
      ],
      "metadata": {
        "id": "-kDJc2jSqBFh"
      }
    },
    {
      "cell_type": "markdown",
      "source": [
        "## Image-Caption Generation"
      ],
      "metadata": {
        "id": "EUFUjoZvZ-Q8"
      }
    },
    {
      "cell_type": "markdown",
      "metadata": {
        "id": "aps2pp7bmjGm"
      },
      "source": [
        "### Load and Prepare the Dataset"
      ]
    },
    {
      "cell_type": "code",
      "execution_count": 16,
      "metadata": {
        "id": "5QNPmvDSmjGm"
      },
      "outputs": [],
      "source": [
        "main = '/content/drive/MyDrive/Fall 2023/EE 475/project/'\n",
        "train_df = pd.read_csv(main+'train_df.csv')\n",
        "test_df = pd.read_csv(main+'test_df.csv')\n",
        "val_df = pd.read_csv(main+'val_df.csv')\n",
        "# save pretrained model to\n",
        "output_dir = \"/content/drive/MyDrive/Fall 2023/EE 475/project/outputs/\""
      ]
    },
    {
      "cell_type": "code",
      "execution_count": 17,
      "metadata": {
        "id": "chAMZ7gAmjGn"
      },
      "outputs": [],
      "source": [
        "## dataset class ##\n",
        "\n",
        "class df_2_dataset_captions(torch.utils.data.Dataset):\n",
        "\n",
        "    def __init__(self, csv_file, root_dir, processor=None, tokenizer=None, transform=None):\n",
        "        \"\"\"\n",
        "        Args:\n",
        "            csv_file (string): path to the csv file with image filenames and findings/captions\n",
        "            root_dir (string): directory with all the images\n",
        "            processor (callable, optional): to turn each (image, text) pair into the expected inputs\n",
        "            tokenizer (callable, optional): method of converting a sequence of text into tokens\n",
        "            transform (callable, optional): optional transform to be applied on a sample\n",
        "        \"\"\"\n",
        "        self.image_files = csv_file['filename']\n",
        "        self.labels = csv_file['caption']\n",
        "        self.root_dir = root_dir\n",
        "        self.transform = transform\n",
        "\n",
        "        # use `GitProcessor` to turn each (image, text) pair into the expected inputs.\n",
        "        # the text gets turned into `input_ids` and `attention_mask`, and the image into `pixel_values`\n",
        "        self.processor = processor\n",
        "        self.tokenizer = tokenizer # not needed if we use processor\n",
        "        self.max_text_len = 40\n",
        "\n",
        "    def __len__(self):\n",
        "        return len(self.image_files)\n",
        "\n",
        "    def __getitem__(self, idx):\n",
        "        if torch.is_tensor(idx):\n",
        "            idx = idx.tolist()\n",
        "\n",
        "        img_name = os.path.join(self.root_dir, self.image_files.iloc[idx])\n",
        "\n",
        "        image = Image.open(img_name).convert('RGB') # get the image\n",
        "        caption = self.labels.iloc[idx] # get the caption\n",
        "\n",
        "        if self.transform:\n",
        "            image = self.transform(image)\n",
        "\n",
        "        sample = {'image': image, 'caption': caption} # dictionary of image, text pair\n",
        "\n",
        "        encoding = self.processor(images=sample[\"image\"], text=sample[\"caption\"], padding=\"max_length\", return_tensors=\"pt\")\n",
        "\n",
        "        # remove batch dimension\n",
        "        encoding = {k:v.squeeze() for k,v in encoding.items()}\n",
        "        return encoding"
      ]
    },
    {
      "cell_type": "code",
      "execution_count": 18,
      "metadata": {
        "id": "7rgXmRqqmjGn",
        "colab": {
          "base_uri": "https://localhost:8080/",
          "height": 177,
          "referenced_widgets": [
            "01a8b343148d4f1694944bcfb638f513",
            "4fc48d11850943dabcb5b12ce24b1559",
            "808440bf1c854216876263b473c4866b",
            "36d517c6c33d4ab299c47014fb789422",
            "8a99922fc1584d02a17fbe59aaa91518",
            "c4fa3fa5c9434ed1a2ed4c747edf4190",
            "c5934b81a3014e5fb6a138930d44c2c1",
            "27c694ce9ae14d589129028e5d88b56e",
            "813379604c3f41c1a2989f4c1a0fd4da",
            "7e0731b3566240668dfd0ed1fe7dfcb6",
            "f7f93b2edf6d416abe6ef60adc00069b",
            "320f7c7a5faf459ab44dc69d661dd414",
            "c6bec68a9b05416d95b1840f3a6588cb",
            "bf10fdb66cac498d94c730dda15913b5",
            "0fcdc6202f9248f8906d44c3012a18a7",
            "56e5ae54c43c408d84615cef372201f0",
            "485e37545dac492680649781570fd7fc",
            "2f242de5c6e14fe289a5877ec7affeda",
            "7f75329845e44ce69fe410e2ecae3ef6",
            "c7c5b9f39e384319bdb4f1b0e8c9ecb9",
            "20f480b6fd0b4b548d7f0caf25d52dea",
            "2fd3e252352f4bc8b1e963cc16dbea8a",
            "5e53ffca4ef04e1c8a2db6e8f5a29c69",
            "fabb23daf63b4bd6860d7eb7cfbda980",
            "83e157e8240b4a17bf132fe7d2e312be",
            "a24a580372b74b93a371b5ba8e40acee",
            "7181a9712c494b7db963fc5bad4e627e",
            "8b5cbf44144646d8982a240e30b1c1c9",
            "24297bda657d4098b29994d77a9463a6",
            "f8c089cf7c874cfa810fd41ee6966963",
            "edf42bf7b7db44d4b38502070a745158",
            "1726dac21a5340f080ecb3d608a96166",
            "ab8379f12c2140888da0c76b2e5522bd",
            "e6fac3ecafde4eae89e0771d3c27ed04",
            "11f373592c164cd9b56c6f7660b49919",
            "d5753cbd78dd4f1fb8af3900a1d045b5",
            "219e61d9e1b34aa8aba361dddf93ce41",
            "ce9d1e2757ad4e958b68926c7d362637",
            "4768b95b11274506a437b7808cbf249d",
            "43853c7dff0942038264261da9e02612",
            "e06be459b370481480d41c1d98378114",
            "24e84f62ceab45b98b42477cec885d5e",
            "ba6392d58557496fb654eaf1140d4dd5",
            "76640e0e874e45d2962c5e2209a73e54",
            "dfdfe2fde67440c4b357f9e068fd636b",
            "3b171d9ce0c149f49e06a2b12d7884cf",
            "3ba57bbea62b4540864f8b3da4449c03",
            "a566ae86fc5a4e94a30319ceb08db157",
            "cd4d99a58f764bfb9ed156960c005daa",
            "f9bea70fe6d54b7c80c78f989085e222",
            "78790a61af814811ba48e05e3e5dd183",
            "fd55a83dfdd743cb95c5170d1c71b7fc",
            "cb579bfaf0504fa696874bc950d452a6",
            "6e906651bba34d11997119e78c8e7dbb",
            "573a0e425e4c4ba687f114e0a03a1d40"
          ]
        },
        "outputId": "0899063b-857b-4fc6-d808-d41e45f5c1d4"
      },
      "outputs": [
        {
          "output_type": "display_data",
          "data": {
            "text/plain": [
              "preprocessor_config.json:   0%|          | 0.00/503 [00:00<?, ?B/s]"
            ],
            "application/vnd.jupyter.widget-view+json": {
              "version_major": 2,
              "version_minor": 0,
              "model_id": "01a8b343148d4f1694944bcfb638f513"
            }
          },
          "metadata": {}
        },
        {
          "output_type": "display_data",
          "data": {
            "text/plain": [
              "tokenizer_config.json:   0%|          | 0.00/453 [00:00<?, ?B/s]"
            ],
            "application/vnd.jupyter.widget-view+json": {
              "version_major": 2,
              "version_minor": 0,
              "model_id": "320f7c7a5faf459ab44dc69d661dd414"
            }
          },
          "metadata": {}
        },
        {
          "output_type": "display_data",
          "data": {
            "text/plain": [
              "vocab.txt:   0%|          | 0.00/232k [00:00<?, ?B/s]"
            ],
            "application/vnd.jupyter.widget-view+json": {
              "version_major": 2,
              "version_minor": 0,
              "model_id": "5e53ffca4ef04e1c8a2db6e8f5a29c69"
            }
          },
          "metadata": {}
        },
        {
          "output_type": "display_data",
          "data": {
            "text/plain": [
              "tokenizer.json:   0%|          | 0.00/711k [00:00<?, ?B/s]"
            ],
            "application/vnd.jupyter.widget-view+json": {
              "version_major": 2,
              "version_minor": 0,
              "model_id": "e6fac3ecafde4eae89e0771d3c27ed04"
            }
          },
          "metadata": {}
        },
        {
          "output_type": "display_data",
          "data": {
            "text/plain": [
              "special_tokens_map.json:   0%|          | 0.00/125 [00:00<?, ?B/s]"
            ],
            "application/vnd.jupyter.widget-view+json": {
              "version_major": 2,
              "version_minor": 0,
              "model_id": "dfdfe2fde67440c4b357f9e068fd636b"
            }
          },
          "metadata": {}
        }
      ],
      "source": [
        "# bert_tokenizer = transformers.BertTokenizer.from_pretrained('bert-base-uncased', do_lower_case=True)\n",
        "transform = transforms.Compose([\n",
        "    transforms.Resize((224, 224))\n",
        "    ])\n",
        "\n",
        "processor = transformers.AutoProcessor.from_pretrained(\"microsoft/git-base\") # processor\n",
        "\n",
        "dataset_train = df_2_dataset_captions(csv_file=train_df, root_dir=root, processor=processor, transform=transform)\n",
        "dataset_val = df_2_dataset_captions(csv_file=val_df, root_dir=root, processor=processor, transform=transform)\n",
        "dataset_test = df_2_dataset_captions(csv_file=test_df, root_dir=root, processor=processor, transform=transform)"
      ]
    },
    {
      "cell_type": "markdown",
      "source": [
        "### Define the Model"
      ],
      "metadata": {
        "id": "SLlcG95wOVEp"
      }
    },
    {
      "cell_type": "code",
      "source": [
        "model = transformers.AutoModelForCausalLM.from_pretrained(\"microsoft/git-base\")"
      ],
      "metadata": {
        "colab": {
          "base_uri": "https://localhost:8080/",
          "height": 113,
          "referenced_widgets": [
            "fbe88323f16747298436a3e71e1b455e",
            "418b6b96095348e8ae3b6d9b5b828401",
            "55e4129f131b4e1e94e8f6ebaef44193",
            "9249ea432d1c4d648d9f1e94e7300341",
            "3811013a04db449d91030d9923e31da1",
            "2062ed76bbc4400cba07809a98b70374",
            "c51fa59f559f4c6bb48e812dc26bff0f",
            "b0b5de26a7704d2aaf9957232b77ac0c",
            "2a481e9e885e4afd8876c1586d51ac45",
            "62d44d7d75944909b951d7efab2876ad",
            "6ee73f3d86a644b886ed71aa30ca857c",
            "f25c6be0003547499dbb445808770f5a",
            "28b2d841111e40f5b583f6abe2eb9487",
            "5d589f28fa1744c99f2559370bb03d29",
            "047cb5fa29fd4282b7ac2cac4022fe06",
            "9e50f4e6052f48d99255d206be1f05b6",
            "d606b2bfe7b749209fbfb3364a501439",
            "7d761d7babd7422db0a92ea286e14c6f",
            "75d6196597dc4986b7386d45962072e6",
            "cca1744e3f294e15abfdd49a3907671b",
            "ef8170a68c654e858d02acfff801d652",
            "4e93f7352b2a44c59055b1c8d4fe54d3",
            "e905009093234474b8c747269a2e5c94",
            "61f6730ee30b494bb6f62413b70869d8",
            "7d60d17118744b698bd4243bdeaeba74",
            "c5cbdeac300a4213ac03b3a2bbbccb46",
            "8a1ca2acad604fd7bdb7299017677118",
            "f9259255617a4a78ada37867af8bd819",
            "19c3d5d0c2364a4bb9f78f8490189961",
            "d2c6c24f344049d5ad7b7cf408e4ff07",
            "6a02510da5714c0fa05bd09992d231a1",
            "96bb6d77b03c49b892eca505e5e04f63",
            "da39a5c6614b4c84b753b1989009cf09"
          ]
        },
        "id": "Z9Xxprp8OZQ0",
        "outputId": "c9aa4e4f-e12f-4483-b106-5ef02c4948ed"
      },
      "execution_count": 19,
      "outputs": [
        {
          "output_type": "display_data",
          "data": {
            "text/plain": [
              "config.json:   0%|          | 0.00/2.82k [00:00<?, ?B/s]"
            ],
            "application/vnd.jupyter.widget-view+json": {
              "version_major": 2,
              "version_minor": 0,
              "model_id": "fbe88323f16747298436a3e71e1b455e"
            }
          },
          "metadata": {}
        },
        {
          "output_type": "display_data",
          "data": {
            "text/plain": [
              "model.safetensors:   0%|          | 0.00/707M [00:00<?, ?B/s]"
            ],
            "application/vnd.jupyter.widget-view+json": {
              "version_major": 2,
              "version_minor": 0,
              "model_id": "f25c6be0003547499dbb445808770f5a"
            }
          },
          "metadata": {}
        },
        {
          "output_type": "display_data",
          "data": {
            "text/plain": [
              "generation_config.json:   0%|          | 0.00/141 [00:00<?, ?B/s]"
            ],
            "application/vnd.jupyter.widget-view+json": {
              "version_major": 2,
              "version_minor": 0,
              "model_id": "e905009093234474b8c747269a2e5c94"
            }
          },
          "metadata": {}
        }
      ]
    },
    {
      "cell_type": "code",
      "source": [
        "model = model.to(device) # move to GPU/CPU"
      ],
      "metadata": {
        "id": "qXg5zwKaOdsq"
      },
      "execution_count": 20,
      "outputs": []
    },
    {
      "cell_type": "markdown",
      "metadata": {
        "id": "pXX1uTBHmjGs"
      },
      "source": [
        "### Training the Model"
      ]
    },
    {
      "cell_type": "code",
      "source": [
        "# create dataloaders, which allows us to get batches of data from the dataset\n",
        "train_dataloader = DataLoader(dataset_train, shuffle=True, batch_size=4, drop_last=True)\n",
        "val_dataloader = DataLoader(dataset_val, batch_size=4, drop_last=True)\n",
        "test_dataloader = DataLoader(dataset_test, batch_size=4, drop_last=True)"
      ],
      "metadata": {
        "id": "GJluarSoSK0S"
      },
      "execution_count": 21,
      "outputs": []
    },
    {
      "cell_type": "code",
      "source": [
        "### train the model ###\n",
        "\n",
        "num_epochs = 5\n",
        "train_loss_history = []\n",
        "optimizer = torch.optim.AdamW(model.parameters(), lr=5e-5) # the optimizer\n",
        "\n",
        "for epoch in range(num_epochs):\n",
        "    # print(\"Epoch:\", epoch)\n",
        "    avg_loss = 0\n",
        "    with tqdm(total=len(train_dataloader)) as pbar:\n",
        "        model.train()\n",
        "        for batch_idx, batch in enumerate(train_dataloader):\n",
        "            input_ids = batch.pop(\"input_ids\").to(device)\n",
        "            pixel_values = batch.pop(\"pixel_values\").to(device)\n",
        "            attention_mask=batch.pop(\"attention_mask\").to(device)\n",
        "            outputs = model(input_ids=input_ids,\n",
        "                            attention_mask=attention_mask,\n",
        "                            pixel_values=pixel_values,\n",
        "                            labels=input_ids)\n",
        "            # forward + backward pass\n",
        "            loss = outputs.loss\n",
        "            train_loss_history.append(loss.item())\n",
        "            optimizer.zero_grad()\n",
        "            loss.backward()\n",
        "            optimizer.step()\n",
        "            avg_loss = (avg_loss * batch_idx + loss.item()) / (batch_idx + 1)\n",
        "            pbar.update(1)\n",
        "            pbar.set_description(f\"Epoch {epoch}, Loss {loss:.4f}, Avg Loss {avg_loss:.4f}\")\n",
        "    # validation step\n",
        "    with torch.no_grad():\n",
        "        model.eval()\n",
        "        validation_loss = 0\n",
        "        for batch_idx, batch in enumerate(val_dataloader):\n",
        "            input_ids = batch.pop(\"input_ids\").to(device)\n",
        "            pixel_values = batch.pop(\"pixel_values\").to(device)\n",
        "            outputs = model(input_ids=input_ids,\n",
        "                            pixel_values=pixel_values,\n",
        "                            labels=input_ids)\n",
        "            loss = outputs.loss\n",
        "            validation_loss += loss.item()\n",
        "        validation_loss /= len(val_dataloader)\n",
        "        print(f\"Epoch {epoch}, Validation Loss {validation_loss:.4f}\")"
      ],
      "metadata": {
        "colab": {
          "base_uri": "https://localhost:8080/"
        },
        "id": "8VOH2faoOh2y",
        "outputId": "ccfcddf9-0c94-437a-eed2-4c6c3caa8be1"
      },
      "execution_count": 22,
      "outputs": [
        {
          "output_type": "stream",
          "name": "stderr",
          "text": [
            "Epoch 0, Loss 0.3051, Avg Loss 4.3014: 100%|██████████| 104/104 [01:38<00:00,  1.05it/s]\n",
            "We strongly recommend passing in an `attention_mask` since your input_ids may be padded. See https://huggingface.co/docs/transformers/troubleshooting#incorrect-output-when-padding-tokens-arent-masked.\n"
          ]
        },
        {
          "output_type": "stream",
          "name": "stdout",
          "text": [
            "Epoch 0, Validation Loss 0.3910\n"
          ]
        },
        {
          "output_type": "stream",
          "name": "stderr",
          "text": [
            "Epoch 1, Loss 0.0497, Avg Loss 0.1584: 100%|██████████| 104/104 [01:41<00:00,  1.02it/s]\n"
          ]
        },
        {
          "output_type": "stream",
          "name": "stdout",
          "text": [
            "Epoch 1, Validation Loss 0.1524\n"
          ]
        },
        {
          "output_type": "stream",
          "name": "stderr",
          "text": [
            "Epoch 2, Loss 0.0759, Avg Loss 0.0818: 100%|██████████| 104/104 [01:40<00:00,  1.03it/s]\n"
          ]
        },
        {
          "output_type": "stream",
          "name": "stdout",
          "text": [
            "Epoch 2, Validation Loss 0.1311\n"
          ]
        },
        {
          "output_type": "stream",
          "name": "stderr",
          "text": [
            "Epoch 3, Loss 0.0423, Avg Loss 0.0594: 100%|██████████| 104/104 [01:37<00:00,  1.07it/s]\n"
          ]
        },
        {
          "output_type": "stream",
          "name": "stdout",
          "text": [
            "Epoch 3, Validation Loss 0.0925\n"
          ]
        },
        {
          "output_type": "stream",
          "name": "stderr",
          "text": [
            "Epoch 4, Loss 0.0433, Avg Loss 0.0472: 100%|██████████| 104/104 [01:37<00:00,  1.07it/s]\n"
          ]
        },
        {
          "output_type": "stream",
          "name": "stdout",
          "text": [
            "Epoch 4, Validation Loss 0.1369\n"
          ]
        }
      ]
    },
    {
      "cell_type": "code",
      "source": [
        " # save the model\n",
        "model.save_pretrained(output_dir)\n",
        "processor.save_pretrained(output_dir)"
      ],
      "metadata": {
        "id": "UgbOeHhGASRe"
      },
      "execution_count": 23,
      "outputs": []
    },
    {
      "cell_type": "markdown",
      "source": [
        "#### Testing on a random samples"
      ],
      "metadata": {
        "id": "amOHNG-HPFP7"
      }
    },
    {
      "cell_type": "code",
      "source": [
        "sample_num = np.random.randint(0, len(test_df)) # select random sample\n",
        "path_img = root + test_df.filename[sample_num] # get the image\n",
        "image = Image.open(path_img)\n",
        "\n",
        "pixel_values = processor(images=image, return_tensors=\"pt\").pixel_values.to(device)\n",
        "\n",
        "generated_ids = model.generate(pixel_values=pixel_values, max_length=40)\n",
        "generated_caption = processor.batch_decode(generated_ids, skip_special_tokens=True)[0] # skip special look into\n",
        "print(generated_caption) # generated caption"
      ],
      "metadata": {
        "id": "nvVl6SCeOu-J",
        "colab": {
          "base_uri": "https://localhost:8080/"
        },
        "outputId": "254b99a8-a713-45b0-bb3e-b3a7932f53e0"
      },
      "execution_count": 29,
      "outputs": [
        {
          "output_type": "stream",
          "name": "stdout",
          "text": [
            "1. no acute cardiopulmonary abnormality.\n"
          ]
        }
      ]
    },
    {
      "cell_type": "code",
      "source": [
        "test_df.caption[sample_num] # get the ground-truth caption"
      ],
      "metadata": {
        "id": "QsWN5bZXOiy_",
        "colab": {
          "base_uri": "https://localhost:8080/",
          "height": 35
        },
        "outputId": "d97edee7-2fef-4203-a8bb-f3fab7578c63"
      },
      "execution_count": 30,
      "outputs": [
        {
          "output_type": "execute_result",
          "data": {
            "text/plain": [
              "'No acute cardiopulmonary abnormality. .'"
            ],
            "application/vnd.google.colaboratory.intrinsic+json": {
              "type": "string"
            }
          },
          "metadata": {},
          "execution_count": 30
        }
      ]
    },
    {
      "cell_type": "code",
      "source": [
        "sample_num = np.random.randint(0, len(test_df)) # select random sample\n",
        "path_img = root + test_df.filename[sample_num] # get the image\n",
        "image = Image.open(path_img)\n",
        "\n",
        "pixel_values = processor(images=image, return_tensors=\"pt\").pixel_values.to(device)\n",
        "\n",
        "generated_ids = model.generate(pixel_values=pixel_values, max_length=40)\n",
        "generated_caption = processor.batch_decode(generated_ids, skip_special_tokens=True)[0] # skip special look into\n",
        "print(generated_caption) # generated caption"
      ],
      "metadata": {
        "colab": {
          "base_uri": "https://localhost:8080/"
        },
        "id": "OtxVoTSNgG3J",
        "outputId": "23ab62a9-90b6-411d-b3ad-16337f20f2a9"
      },
      "execution_count": 36,
      "outputs": [
        {
          "output_type": "stream",
          "name": "stdout",
          "text": [
            "1. no acute cardiopulmonary abnormality.\n"
          ]
        }
      ]
    },
    {
      "cell_type": "code",
      "source": [
        "test_df.caption[sample_num] # get the ground-truth caption"
      ],
      "metadata": {
        "colab": {
          "base_uri": "https://localhost:8080/",
          "height": 53
        },
        "id": "Di8GEIaWgINJ",
        "outputId": "44285382-86ca-4965-ae07-1df6e07366ae"
      },
      "execution_count": 37,
      "outputs": [
        {
          "output_type": "execute_result",
          "data": {
            "text/plain": [
              "'Heart size normal. Mediastinal silhouette and pulmonary vascularity are within normal limits. There is no focal airspace consolidation, pleural effusion or pneumothorax.'"
            ],
            "application/vnd.google.colaboratory.intrinsic+json": {
              "type": "string"
            }
          },
          "metadata": {},
          "execution_count": 37
        }
      ]
    },
    {
      "cell_type": "markdown",
      "source": [
        "**Observations:**\n",
        "* This model is far more complicated than the earlier classifier, it utilizes the attention mechanism and is based on the Transformer model\n",
        "* Here I fine-tunes the model on 5 epochs\n",
        "* the model provided good enough results relative to the number of data provided for fine-tuning\n",
        "* Therefore, I noticed that the model tends to generate normal or healthy reports more"
      ],
      "metadata": {
        "id": "v1nIcOnN2s81"
      }
    }
  ],
  "metadata": {
    "kernelspec": {
      "display_name": "Python 3",
      "name": "python3"
    },
    "language_info": {
      "codemirror_mode": {
        "name": "ipython",
        "version": 3
      },
      "file_extension": ".py",
      "mimetype": "text/x-python",
      "name": "python",
      "nbconvert_exporter": "python",
      "pygments_lexer": "ipython3",
      "version": "3.11.5"
    },
    "colab": {
      "provenance": [],
      "gpuType": "T4"
    },
    "accelerator": "GPU",
    "widgets": {
      "application/vnd.jupyter.widget-state+json": {
        "01a8b343148d4f1694944bcfb638f513": {
          "model_module": "@jupyter-widgets/controls",
          "model_name": "HBoxModel",
          "model_module_version": "1.5.0",
          "state": {
            "_dom_classes": [],
            "_model_module": "@jupyter-widgets/controls",
            "_model_module_version": "1.5.0",
            "_model_name": "HBoxModel",
            "_view_count": null,
            "_view_module": "@jupyter-widgets/controls",
            "_view_module_version": "1.5.0",
            "_view_name": "HBoxView",
            "box_style": "",
            "children": [
              "IPY_MODEL_4fc48d11850943dabcb5b12ce24b1559",
              "IPY_MODEL_808440bf1c854216876263b473c4866b",
              "IPY_MODEL_36d517c6c33d4ab299c47014fb789422"
            ],
            "layout": "IPY_MODEL_8a99922fc1584d02a17fbe59aaa91518"
          }
        },
        "4fc48d11850943dabcb5b12ce24b1559": {
          "model_module": "@jupyter-widgets/controls",
          "model_name": "HTMLModel",
          "model_module_version": "1.5.0",
          "state": {
            "_dom_classes": [],
            "_model_module": "@jupyter-widgets/controls",
            "_model_module_version": "1.5.0",
            "_model_name": "HTMLModel",
            "_view_count": null,
            "_view_module": "@jupyter-widgets/controls",
            "_view_module_version": "1.5.0",
            "_view_name": "HTMLView",
            "description": "",
            "description_tooltip": null,
            "layout": "IPY_MODEL_c4fa3fa5c9434ed1a2ed4c747edf4190",
            "placeholder": "​",
            "style": "IPY_MODEL_c5934b81a3014e5fb6a138930d44c2c1",
            "value": "preprocessor_config.json: 100%"
          }
        },
        "808440bf1c854216876263b473c4866b": {
          "model_module": "@jupyter-widgets/controls",
          "model_name": "FloatProgressModel",
          "model_module_version": "1.5.0",
          "state": {
            "_dom_classes": [],
            "_model_module": "@jupyter-widgets/controls",
            "_model_module_version": "1.5.0",
            "_model_name": "FloatProgressModel",
            "_view_count": null,
            "_view_module": "@jupyter-widgets/controls",
            "_view_module_version": "1.5.0",
            "_view_name": "ProgressView",
            "bar_style": "success",
            "description": "",
            "description_tooltip": null,
            "layout": "IPY_MODEL_27c694ce9ae14d589129028e5d88b56e",
            "max": 503,
            "min": 0,
            "orientation": "horizontal",
            "style": "IPY_MODEL_813379604c3f41c1a2989f4c1a0fd4da",
            "value": 503
          }
        },
        "36d517c6c33d4ab299c47014fb789422": {
          "model_module": "@jupyter-widgets/controls",
          "model_name": "HTMLModel",
          "model_module_version": "1.5.0",
          "state": {
            "_dom_classes": [],
            "_model_module": "@jupyter-widgets/controls",
            "_model_module_version": "1.5.0",
            "_model_name": "HTMLModel",
            "_view_count": null,
            "_view_module": "@jupyter-widgets/controls",
            "_view_module_version": "1.5.0",
            "_view_name": "HTMLView",
            "description": "",
            "description_tooltip": null,
            "layout": "IPY_MODEL_7e0731b3566240668dfd0ed1fe7dfcb6",
            "placeholder": "​",
            "style": "IPY_MODEL_f7f93b2edf6d416abe6ef60adc00069b",
            "value": " 503/503 [00:00&lt;00:00, 33.1kB/s]"
          }
        },
        "8a99922fc1584d02a17fbe59aaa91518": {
          "model_module": "@jupyter-widgets/base",
          "model_name": "LayoutModel",
          "model_module_version": "1.2.0",
          "state": {
            "_model_module": "@jupyter-widgets/base",
            "_model_module_version": "1.2.0",
            "_model_name": "LayoutModel",
            "_view_count": null,
            "_view_module": "@jupyter-widgets/base",
            "_view_module_version": "1.2.0",
            "_view_name": "LayoutView",
            "align_content": null,
            "align_items": null,
            "align_self": null,
            "border": null,
            "bottom": null,
            "display": null,
            "flex": null,
            "flex_flow": null,
            "grid_area": null,
            "grid_auto_columns": null,
            "grid_auto_flow": null,
            "grid_auto_rows": null,
            "grid_column": null,
            "grid_gap": null,
            "grid_row": null,
            "grid_template_areas": null,
            "grid_template_columns": null,
            "grid_template_rows": null,
            "height": null,
            "justify_content": null,
            "justify_items": null,
            "left": null,
            "margin": null,
            "max_height": null,
            "max_width": null,
            "min_height": null,
            "min_width": null,
            "object_fit": null,
            "object_position": null,
            "order": null,
            "overflow": null,
            "overflow_x": null,
            "overflow_y": null,
            "padding": null,
            "right": null,
            "top": null,
            "visibility": null,
            "width": null
          }
        },
        "c4fa3fa5c9434ed1a2ed4c747edf4190": {
          "model_module": "@jupyter-widgets/base",
          "model_name": "LayoutModel",
          "model_module_version": "1.2.0",
          "state": {
            "_model_module": "@jupyter-widgets/base",
            "_model_module_version": "1.2.0",
            "_model_name": "LayoutModel",
            "_view_count": null,
            "_view_module": "@jupyter-widgets/base",
            "_view_module_version": "1.2.0",
            "_view_name": "LayoutView",
            "align_content": null,
            "align_items": null,
            "align_self": null,
            "border": null,
            "bottom": null,
            "display": null,
            "flex": null,
            "flex_flow": null,
            "grid_area": null,
            "grid_auto_columns": null,
            "grid_auto_flow": null,
            "grid_auto_rows": null,
            "grid_column": null,
            "grid_gap": null,
            "grid_row": null,
            "grid_template_areas": null,
            "grid_template_columns": null,
            "grid_template_rows": null,
            "height": null,
            "justify_content": null,
            "justify_items": null,
            "left": null,
            "margin": null,
            "max_height": null,
            "max_width": null,
            "min_height": null,
            "min_width": null,
            "object_fit": null,
            "object_position": null,
            "order": null,
            "overflow": null,
            "overflow_x": null,
            "overflow_y": null,
            "padding": null,
            "right": null,
            "top": null,
            "visibility": null,
            "width": null
          }
        },
        "c5934b81a3014e5fb6a138930d44c2c1": {
          "model_module": "@jupyter-widgets/controls",
          "model_name": "DescriptionStyleModel",
          "model_module_version": "1.5.0",
          "state": {
            "_model_module": "@jupyter-widgets/controls",
            "_model_module_version": "1.5.0",
            "_model_name": "DescriptionStyleModel",
            "_view_count": null,
            "_view_module": "@jupyter-widgets/base",
            "_view_module_version": "1.2.0",
            "_view_name": "StyleView",
            "description_width": ""
          }
        },
        "27c694ce9ae14d589129028e5d88b56e": {
          "model_module": "@jupyter-widgets/base",
          "model_name": "LayoutModel",
          "model_module_version": "1.2.0",
          "state": {
            "_model_module": "@jupyter-widgets/base",
            "_model_module_version": "1.2.0",
            "_model_name": "LayoutModel",
            "_view_count": null,
            "_view_module": "@jupyter-widgets/base",
            "_view_module_version": "1.2.0",
            "_view_name": "LayoutView",
            "align_content": null,
            "align_items": null,
            "align_self": null,
            "border": null,
            "bottom": null,
            "display": null,
            "flex": null,
            "flex_flow": null,
            "grid_area": null,
            "grid_auto_columns": null,
            "grid_auto_flow": null,
            "grid_auto_rows": null,
            "grid_column": null,
            "grid_gap": null,
            "grid_row": null,
            "grid_template_areas": null,
            "grid_template_columns": null,
            "grid_template_rows": null,
            "height": null,
            "justify_content": null,
            "justify_items": null,
            "left": null,
            "margin": null,
            "max_height": null,
            "max_width": null,
            "min_height": null,
            "min_width": null,
            "object_fit": null,
            "object_position": null,
            "order": null,
            "overflow": null,
            "overflow_x": null,
            "overflow_y": null,
            "padding": null,
            "right": null,
            "top": null,
            "visibility": null,
            "width": null
          }
        },
        "813379604c3f41c1a2989f4c1a0fd4da": {
          "model_module": "@jupyter-widgets/controls",
          "model_name": "ProgressStyleModel",
          "model_module_version": "1.5.0",
          "state": {
            "_model_module": "@jupyter-widgets/controls",
            "_model_module_version": "1.5.0",
            "_model_name": "ProgressStyleModel",
            "_view_count": null,
            "_view_module": "@jupyter-widgets/base",
            "_view_module_version": "1.2.0",
            "_view_name": "StyleView",
            "bar_color": null,
            "description_width": ""
          }
        },
        "7e0731b3566240668dfd0ed1fe7dfcb6": {
          "model_module": "@jupyter-widgets/base",
          "model_name": "LayoutModel",
          "model_module_version": "1.2.0",
          "state": {
            "_model_module": "@jupyter-widgets/base",
            "_model_module_version": "1.2.0",
            "_model_name": "LayoutModel",
            "_view_count": null,
            "_view_module": "@jupyter-widgets/base",
            "_view_module_version": "1.2.0",
            "_view_name": "LayoutView",
            "align_content": null,
            "align_items": null,
            "align_self": null,
            "border": null,
            "bottom": null,
            "display": null,
            "flex": null,
            "flex_flow": null,
            "grid_area": null,
            "grid_auto_columns": null,
            "grid_auto_flow": null,
            "grid_auto_rows": null,
            "grid_column": null,
            "grid_gap": null,
            "grid_row": null,
            "grid_template_areas": null,
            "grid_template_columns": null,
            "grid_template_rows": null,
            "height": null,
            "justify_content": null,
            "justify_items": null,
            "left": null,
            "margin": null,
            "max_height": null,
            "max_width": null,
            "min_height": null,
            "min_width": null,
            "object_fit": null,
            "object_position": null,
            "order": null,
            "overflow": null,
            "overflow_x": null,
            "overflow_y": null,
            "padding": null,
            "right": null,
            "top": null,
            "visibility": null,
            "width": null
          }
        },
        "f7f93b2edf6d416abe6ef60adc00069b": {
          "model_module": "@jupyter-widgets/controls",
          "model_name": "DescriptionStyleModel",
          "model_module_version": "1.5.0",
          "state": {
            "_model_module": "@jupyter-widgets/controls",
            "_model_module_version": "1.5.0",
            "_model_name": "DescriptionStyleModel",
            "_view_count": null,
            "_view_module": "@jupyter-widgets/base",
            "_view_module_version": "1.2.0",
            "_view_name": "StyleView",
            "description_width": ""
          }
        },
        "320f7c7a5faf459ab44dc69d661dd414": {
          "model_module": "@jupyter-widgets/controls",
          "model_name": "HBoxModel",
          "model_module_version": "1.5.0",
          "state": {
            "_dom_classes": [],
            "_model_module": "@jupyter-widgets/controls",
            "_model_module_version": "1.5.0",
            "_model_name": "HBoxModel",
            "_view_count": null,
            "_view_module": "@jupyter-widgets/controls",
            "_view_module_version": "1.5.0",
            "_view_name": "HBoxView",
            "box_style": "",
            "children": [
              "IPY_MODEL_c6bec68a9b05416d95b1840f3a6588cb",
              "IPY_MODEL_bf10fdb66cac498d94c730dda15913b5",
              "IPY_MODEL_0fcdc6202f9248f8906d44c3012a18a7"
            ],
            "layout": "IPY_MODEL_56e5ae54c43c408d84615cef372201f0"
          }
        },
        "c6bec68a9b05416d95b1840f3a6588cb": {
          "model_module": "@jupyter-widgets/controls",
          "model_name": "HTMLModel",
          "model_module_version": "1.5.0",
          "state": {
            "_dom_classes": [],
            "_model_module": "@jupyter-widgets/controls",
            "_model_module_version": "1.5.0",
            "_model_name": "HTMLModel",
            "_view_count": null,
            "_view_module": "@jupyter-widgets/controls",
            "_view_module_version": "1.5.0",
            "_view_name": "HTMLView",
            "description": "",
            "description_tooltip": null,
            "layout": "IPY_MODEL_485e37545dac492680649781570fd7fc",
            "placeholder": "​",
            "style": "IPY_MODEL_2f242de5c6e14fe289a5877ec7affeda",
            "value": "tokenizer_config.json: 100%"
          }
        },
        "bf10fdb66cac498d94c730dda15913b5": {
          "model_module": "@jupyter-widgets/controls",
          "model_name": "FloatProgressModel",
          "model_module_version": "1.5.0",
          "state": {
            "_dom_classes": [],
            "_model_module": "@jupyter-widgets/controls",
            "_model_module_version": "1.5.0",
            "_model_name": "FloatProgressModel",
            "_view_count": null,
            "_view_module": "@jupyter-widgets/controls",
            "_view_module_version": "1.5.0",
            "_view_name": "ProgressView",
            "bar_style": "success",
            "description": "",
            "description_tooltip": null,
            "layout": "IPY_MODEL_7f75329845e44ce69fe410e2ecae3ef6",
            "max": 453,
            "min": 0,
            "orientation": "horizontal",
            "style": "IPY_MODEL_c7c5b9f39e384319bdb4f1b0e8c9ecb9",
            "value": 453
          }
        },
        "0fcdc6202f9248f8906d44c3012a18a7": {
          "model_module": "@jupyter-widgets/controls",
          "model_name": "HTMLModel",
          "model_module_version": "1.5.0",
          "state": {
            "_dom_classes": [],
            "_model_module": "@jupyter-widgets/controls",
            "_model_module_version": "1.5.0",
            "_model_name": "HTMLModel",
            "_view_count": null,
            "_view_module": "@jupyter-widgets/controls",
            "_view_module_version": "1.5.0",
            "_view_name": "HTMLView",
            "description": "",
            "description_tooltip": null,
            "layout": "IPY_MODEL_20f480b6fd0b4b548d7f0caf25d52dea",
            "placeholder": "​",
            "style": "IPY_MODEL_2fd3e252352f4bc8b1e963cc16dbea8a",
            "value": " 453/453 [00:00&lt;00:00, 21.1kB/s]"
          }
        },
        "56e5ae54c43c408d84615cef372201f0": {
          "model_module": "@jupyter-widgets/base",
          "model_name": "LayoutModel",
          "model_module_version": "1.2.0",
          "state": {
            "_model_module": "@jupyter-widgets/base",
            "_model_module_version": "1.2.0",
            "_model_name": "LayoutModel",
            "_view_count": null,
            "_view_module": "@jupyter-widgets/base",
            "_view_module_version": "1.2.0",
            "_view_name": "LayoutView",
            "align_content": null,
            "align_items": null,
            "align_self": null,
            "border": null,
            "bottom": null,
            "display": null,
            "flex": null,
            "flex_flow": null,
            "grid_area": null,
            "grid_auto_columns": null,
            "grid_auto_flow": null,
            "grid_auto_rows": null,
            "grid_column": null,
            "grid_gap": null,
            "grid_row": null,
            "grid_template_areas": null,
            "grid_template_columns": null,
            "grid_template_rows": null,
            "height": null,
            "justify_content": null,
            "justify_items": null,
            "left": null,
            "margin": null,
            "max_height": null,
            "max_width": null,
            "min_height": null,
            "min_width": null,
            "object_fit": null,
            "object_position": null,
            "order": null,
            "overflow": null,
            "overflow_x": null,
            "overflow_y": null,
            "padding": null,
            "right": null,
            "top": null,
            "visibility": null,
            "width": null
          }
        },
        "485e37545dac492680649781570fd7fc": {
          "model_module": "@jupyter-widgets/base",
          "model_name": "LayoutModel",
          "model_module_version": "1.2.0",
          "state": {
            "_model_module": "@jupyter-widgets/base",
            "_model_module_version": "1.2.0",
            "_model_name": "LayoutModel",
            "_view_count": null,
            "_view_module": "@jupyter-widgets/base",
            "_view_module_version": "1.2.0",
            "_view_name": "LayoutView",
            "align_content": null,
            "align_items": null,
            "align_self": null,
            "border": null,
            "bottom": null,
            "display": null,
            "flex": null,
            "flex_flow": null,
            "grid_area": null,
            "grid_auto_columns": null,
            "grid_auto_flow": null,
            "grid_auto_rows": null,
            "grid_column": null,
            "grid_gap": null,
            "grid_row": null,
            "grid_template_areas": null,
            "grid_template_columns": null,
            "grid_template_rows": null,
            "height": null,
            "justify_content": null,
            "justify_items": null,
            "left": null,
            "margin": null,
            "max_height": null,
            "max_width": null,
            "min_height": null,
            "min_width": null,
            "object_fit": null,
            "object_position": null,
            "order": null,
            "overflow": null,
            "overflow_x": null,
            "overflow_y": null,
            "padding": null,
            "right": null,
            "top": null,
            "visibility": null,
            "width": null
          }
        },
        "2f242de5c6e14fe289a5877ec7affeda": {
          "model_module": "@jupyter-widgets/controls",
          "model_name": "DescriptionStyleModel",
          "model_module_version": "1.5.0",
          "state": {
            "_model_module": "@jupyter-widgets/controls",
            "_model_module_version": "1.5.0",
            "_model_name": "DescriptionStyleModel",
            "_view_count": null,
            "_view_module": "@jupyter-widgets/base",
            "_view_module_version": "1.2.0",
            "_view_name": "StyleView",
            "description_width": ""
          }
        },
        "7f75329845e44ce69fe410e2ecae3ef6": {
          "model_module": "@jupyter-widgets/base",
          "model_name": "LayoutModel",
          "model_module_version": "1.2.0",
          "state": {
            "_model_module": "@jupyter-widgets/base",
            "_model_module_version": "1.2.0",
            "_model_name": "LayoutModel",
            "_view_count": null,
            "_view_module": "@jupyter-widgets/base",
            "_view_module_version": "1.2.0",
            "_view_name": "LayoutView",
            "align_content": null,
            "align_items": null,
            "align_self": null,
            "border": null,
            "bottom": null,
            "display": null,
            "flex": null,
            "flex_flow": null,
            "grid_area": null,
            "grid_auto_columns": null,
            "grid_auto_flow": null,
            "grid_auto_rows": null,
            "grid_column": null,
            "grid_gap": null,
            "grid_row": null,
            "grid_template_areas": null,
            "grid_template_columns": null,
            "grid_template_rows": null,
            "height": null,
            "justify_content": null,
            "justify_items": null,
            "left": null,
            "margin": null,
            "max_height": null,
            "max_width": null,
            "min_height": null,
            "min_width": null,
            "object_fit": null,
            "object_position": null,
            "order": null,
            "overflow": null,
            "overflow_x": null,
            "overflow_y": null,
            "padding": null,
            "right": null,
            "top": null,
            "visibility": null,
            "width": null
          }
        },
        "c7c5b9f39e384319bdb4f1b0e8c9ecb9": {
          "model_module": "@jupyter-widgets/controls",
          "model_name": "ProgressStyleModel",
          "model_module_version": "1.5.0",
          "state": {
            "_model_module": "@jupyter-widgets/controls",
            "_model_module_version": "1.5.0",
            "_model_name": "ProgressStyleModel",
            "_view_count": null,
            "_view_module": "@jupyter-widgets/base",
            "_view_module_version": "1.2.0",
            "_view_name": "StyleView",
            "bar_color": null,
            "description_width": ""
          }
        },
        "20f480b6fd0b4b548d7f0caf25d52dea": {
          "model_module": "@jupyter-widgets/base",
          "model_name": "LayoutModel",
          "model_module_version": "1.2.0",
          "state": {
            "_model_module": "@jupyter-widgets/base",
            "_model_module_version": "1.2.0",
            "_model_name": "LayoutModel",
            "_view_count": null,
            "_view_module": "@jupyter-widgets/base",
            "_view_module_version": "1.2.0",
            "_view_name": "LayoutView",
            "align_content": null,
            "align_items": null,
            "align_self": null,
            "border": null,
            "bottom": null,
            "display": null,
            "flex": null,
            "flex_flow": null,
            "grid_area": null,
            "grid_auto_columns": null,
            "grid_auto_flow": null,
            "grid_auto_rows": null,
            "grid_column": null,
            "grid_gap": null,
            "grid_row": null,
            "grid_template_areas": null,
            "grid_template_columns": null,
            "grid_template_rows": null,
            "height": null,
            "justify_content": null,
            "justify_items": null,
            "left": null,
            "margin": null,
            "max_height": null,
            "max_width": null,
            "min_height": null,
            "min_width": null,
            "object_fit": null,
            "object_position": null,
            "order": null,
            "overflow": null,
            "overflow_x": null,
            "overflow_y": null,
            "padding": null,
            "right": null,
            "top": null,
            "visibility": null,
            "width": null
          }
        },
        "2fd3e252352f4bc8b1e963cc16dbea8a": {
          "model_module": "@jupyter-widgets/controls",
          "model_name": "DescriptionStyleModel",
          "model_module_version": "1.5.0",
          "state": {
            "_model_module": "@jupyter-widgets/controls",
            "_model_module_version": "1.5.0",
            "_model_name": "DescriptionStyleModel",
            "_view_count": null,
            "_view_module": "@jupyter-widgets/base",
            "_view_module_version": "1.2.0",
            "_view_name": "StyleView",
            "description_width": ""
          }
        },
        "5e53ffca4ef04e1c8a2db6e8f5a29c69": {
          "model_module": "@jupyter-widgets/controls",
          "model_name": "HBoxModel",
          "model_module_version": "1.5.0",
          "state": {
            "_dom_classes": [],
            "_model_module": "@jupyter-widgets/controls",
            "_model_module_version": "1.5.0",
            "_model_name": "HBoxModel",
            "_view_count": null,
            "_view_module": "@jupyter-widgets/controls",
            "_view_module_version": "1.5.0",
            "_view_name": "HBoxView",
            "box_style": "",
            "children": [
              "IPY_MODEL_fabb23daf63b4bd6860d7eb7cfbda980",
              "IPY_MODEL_83e157e8240b4a17bf132fe7d2e312be",
              "IPY_MODEL_a24a580372b74b93a371b5ba8e40acee"
            ],
            "layout": "IPY_MODEL_7181a9712c494b7db963fc5bad4e627e"
          }
        },
        "fabb23daf63b4bd6860d7eb7cfbda980": {
          "model_module": "@jupyter-widgets/controls",
          "model_name": "HTMLModel",
          "model_module_version": "1.5.0",
          "state": {
            "_dom_classes": [],
            "_model_module": "@jupyter-widgets/controls",
            "_model_module_version": "1.5.0",
            "_model_name": "HTMLModel",
            "_view_count": null,
            "_view_module": "@jupyter-widgets/controls",
            "_view_module_version": "1.5.0",
            "_view_name": "HTMLView",
            "description": "",
            "description_tooltip": null,
            "layout": "IPY_MODEL_8b5cbf44144646d8982a240e30b1c1c9",
            "placeholder": "​",
            "style": "IPY_MODEL_24297bda657d4098b29994d77a9463a6",
            "value": "vocab.txt: 100%"
          }
        },
        "83e157e8240b4a17bf132fe7d2e312be": {
          "model_module": "@jupyter-widgets/controls",
          "model_name": "FloatProgressModel",
          "model_module_version": "1.5.0",
          "state": {
            "_dom_classes": [],
            "_model_module": "@jupyter-widgets/controls",
            "_model_module_version": "1.5.0",
            "_model_name": "FloatProgressModel",
            "_view_count": null,
            "_view_module": "@jupyter-widgets/controls",
            "_view_module_version": "1.5.0",
            "_view_name": "ProgressView",
            "bar_style": "success",
            "description": "",
            "description_tooltip": null,
            "layout": "IPY_MODEL_f8c089cf7c874cfa810fd41ee6966963",
            "max": 231508,
            "min": 0,
            "orientation": "horizontal",
            "style": "IPY_MODEL_edf42bf7b7db44d4b38502070a745158",
            "value": 231508
          }
        },
        "a24a580372b74b93a371b5ba8e40acee": {
          "model_module": "@jupyter-widgets/controls",
          "model_name": "HTMLModel",
          "model_module_version": "1.5.0",
          "state": {
            "_dom_classes": [],
            "_model_module": "@jupyter-widgets/controls",
            "_model_module_version": "1.5.0",
            "_model_name": "HTMLModel",
            "_view_count": null,
            "_view_module": "@jupyter-widgets/controls",
            "_view_module_version": "1.5.0",
            "_view_name": "HTMLView",
            "description": "",
            "description_tooltip": null,
            "layout": "IPY_MODEL_1726dac21a5340f080ecb3d608a96166",
            "placeholder": "​",
            "style": "IPY_MODEL_ab8379f12c2140888da0c76b2e5522bd",
            "value": " 232k/232k [00:00&lt;00:00, 588kB/s]"
          }
        },
        "7181a9712c494b7db963fc5bad4e627e": {
          "model_module": "@jupyter-widgets/base",
          "model_name": "LayoutModel",
          "model_module_version": "1.2.0",
          "state": {
            "_model_module": "@jupyter-widgets/base",
            "_model_module_version": "1.2.0",
            "_model_name": "LayoutModel",
            "_view_count": null,
            "_view_module": "@jupyter-widgets/base",
            "_view_module_version": "1.2.0",
            "_view_name": "LayoutView",
            "align_content": null,
            "align_items": null,
            "align_self": null,
            "border": null,
            "bottom": null,
            "display": null,
            "flex": null,
            "flex_flow": null,
            "grid_area": null,
            "grid_auto_columns": null,
            "grid_auto_flow": null,
            "grid_auto_rows": null,
            "grid_column": null,
            "grid_gap": null,
            "grid_row": null,
            "grid_template_areas": null,
            "grid_template_columns": null,
            "grid_template_rows": null,
            "height": null,
            "justify_content": null,
            "justify_items": null,
            "left": null,
            "margin": null,
            "max_height": null,
            "max_width": null,
            "min_height": null,
            "min_width": null,
            "object_fit": null,
            "object_position": null,
            "order": null,
            "overflow": null,
            "overflow_x": null,
            "overflow_y": null,
            "padding": null,
            "right": null,
            "top": null,
            "visibility": null,
            "width": null
          }
        },
        "8b5cbf44144646d8982a240e30b1c1c9": {
          "model_module": "@jupyter-widgets/base",
          "model_name": "LayoutModel",
          "model_module_version": "1.2.0",
          "state": {
            "_model_module": "@jupyter-widgets/base",
            "_model_module_version": "1.2.0",
            "_model_name": "LayoutModel",
            "_view_count": null,
            "_view_module": "@jupyter-widgets/base",
            "_view_module_version": "1.2.0",
            "_view_name": "LayoutView",
            "align_content": null,
            "align_items": null,
            "align_self": null,
            "border": null,
            "bottom": null,
            "display": null,
            "flex": null,
            "flex_flow": null,
            "grid_area": null,
            "grid_auto_columns": null,
            "grid_auto_flow": null,
            "grid_auto_rows": null,
            "grid_column": null,
            "grid_gap": null,
            "grid_row": null,
            "grid_template_areas": null,
            "grid_template_columns": null,
            "grid_template_rows": null,
            "height": null,
            "justify_content": null,
            "justify_items": null,
            "left": null,
            "margin": null,
            "max_height": null,
            "max_width": null,
            "min_height": null,
            "min_width": null,
            "object_fit": null,
            "object_position": null,
            "order": null,
            "overflow": null,
            "overflow_x": null,
            "overflow_y": null,
            "padding": null,
            "right": null,
            "top": null,
            "visibility": null,
            "width": null
          }
        },
        "24297bda657d4098b29994d77a9463a6": {
          "model_module": "@jupyter-widgets/controls",
          "model_name": "DescriptionStyleModel",
          "model_module_version": "1.5.0",
          "state": {
            "_model_module": "@jupyter-widgets/controls",
            "_model_module_version": "1.5.0",
            "_model_name": "DescriptionStyleModel",
            "_view_count": null,
            "_view_module": "@jupyter-widgets/base",
            "_view_module_version": "1.2.0",
            "_view_name": "StyleView",
            "description_width": ""
          }
        },
        "f8c089cf7c874cfa810fd41ee6966963": {
          "model_module": "@jupyter-widgets/base",
          "model_name": "LayoutModel",
          "model_module_version": "1.2.0",
          "state": {
            "_model_module": "@jupyter-widgets/base",
            "_model_module_version": "1.2.0",
            "_model_name": "LayoutModel",
            "_view_count": null,
            "_view_module": "@jupyter-widgets/base",
            "_view_module_version": "1.2.0",
            "_view_name": "LayoutView",
            "align_content": null,
            "align_items": null,
            "align_self": null,
            "border": null,
            "bottom": null,
            "display": null,
            "flex": null,
            "flex_flow": null,
            "grid_area": null,
            "grid_auto_columns": null,
            "grid_auto_flow": null,
            "grid_auto_rows": null,
            "grid_column": null,
            "grid_gap": null,
            "grid_row": null,
            "grid_template_areas": null,
            "grid_template_columns": null,
            "grid_template_rows": null,
            "height": null,
            "justify_content": null,
            "justify_items": null,
            "left": null,
            "margin": null,
            "max_height": null,
            "max_width": null,
            "min_height": null,
            "min_width": null,
            "object_fit": null,
            "object_position": null,
            "order": null,
            "overflow": null,
            "overflow_x": null,
            "overflow_y": null,
            "padding": null,
            "right": null,
            "top": null,
            "visibility": null,
            "width": null
          }
        },
        "edf42bf7b7db44d4b38502070a745158": {
          "model_module": "@jupyter-widgets/controls",
          "model_name": "ProgressStyleModel",
          "model_module_version": "1.5.0",
          "state": {
            "_model_module": "@jupyter-widgets/controls",
            "_model_module_version": "1.5.0",
            "_model_name": "ProgressStyleModel",
            "_view_count": null,
            "_view_module": "@jupyter-widgets/base",
            "_view_module_version": "1.2.0",
            "_view_name": "StyleView",
            "bar_color": null,
            "description_width": ""
          }
        },
        "1726dac21a5340f080ecb3d608a96166": {
          "model_module": "@jupyter-widgets/base",
          "model_name": "LayoutModel",
          "model_module_version": "1.2.0",
          "state": {
            "_model_module": "@jupyter-widgets/base",
            "_model_module_version": "1.2.0",
            "_model_name": "LayoutModel",
            "_view_count": null,
            "_view_module": "@jupyter-widgets/base",
            "_view_module_version": "1.2.0",
            "_view_name": "LayoutView",
            "align_content": null,
            "align_items": null,
            "align_self": null,
            "border": null,
            "bottom": null,
            "display": null,
            "flex": null,
            "flex_flow": null,
            "grid_area": null,
            "grid_auto_columns": null,
            "grid_auto_flow": null,
            "grid_auto_rows": null,
            "grid_column": null,
            "grid_gap": null,
            "grid_row": null,
            "grid_template_areas": null,
            "grid_template_columns": null,
            "grid_template_rows": null,
            "height": null,
            "justify_content": null,
            "justify_items": null,
            "left": null,
            "margin": null,
            "max_height": null,
            "max_width": null,
            "min_height": null,
            "min_width": null,
            "object_fit": null,
            "object_position": null,
            "order": null,
            "overflow": null,
            "overflow_x": null,
            "overflow_y": null,
            "padding": null,
            "right": null,
            "top": null,
            "visibility": null,
            "width": null
          }
        },
        "ab8379f12c2140888da0c76b2e5522bd": {
          "model_module": "@jupyter-widgets/controls",
          "model_name": "DescriptionStyleModel",
          "model_module_version": "1.5.0",
          "state": {
            "_model_module": "@jupyter-widgets/controls",
            "_model_module_version": "1.5.0",
            "_model_name": "DescriptionStyleModel",
            "_view_count": null,
            "_view_module": "@jupyter-widgets/base",
            "_view_module_version": "1.2.0",
            "_view_name": "StyleView",
            "description_width": ""
          }
        },
        "e6fac3ecafde4eae89e0771d3c27ed04": {
          "model_module": "@jupyter-widgets/controls",
          "model_name": "HBoxModel",
          "model_module_version": "1.5.0",
          "state": {
            "_dom_classes": [],
            "_model_module": "@jupyter-widgets/controls",
            "_model_module_version": "1.5.0",
            "_model_name": "HBoxModel",
            "_view_count": null,
            "_view_module": "@jupyter-widgets/controls",
            "_view_module_version": "1.5.0",
            "_view_name": "HBoxView",
            "box_style": "",
            "children": [
              "IPY_MODEL_11f373592c164cd9b56c6f7660b49919",
              "IPY_MODEL_d5753cbd78dd4f1fb8af3900a1d045b5",
              "IPY_MODEL_219e61d9e1b34aa8aba361dddf93ce41"
            ],
            "layout": "IPY_MODEL_ce9d1e2757ad4e958b68926c7d362637"
          }
        },
        "11f373592c164cd9b56c6f7660b49919": {
          "model_module": "@jupyter-widgets/controls",
          "model_name": "HTMLModel",
          "model_module_version": "1.5.0",
          "state": {
            "_dom_classes": [],
            "_model_module": "@jupyter-widgets/controls",
            "_model_module_version": "1.5.0",
            "_model_name": "HTMLModel",
            "_view_count": null,
            "_view_module": "@jupyter-widgets/controls",
            "_view_module_version": "1.5.0",
            "_view_name": "HTMLView",
            "description": "",
            "description_tooltip": null,
            "layout": "IPY_MODEL_4768b95b11274506a437b7808cbf249d",
            "placeholder": "​",
            "style": "IPY_MODEL_43853c7dff0942038264261da9e02612",
            "value": "tokenizer.json: 100%"
          }
        },
        "d5753cbd78dd4f1fb8af3900a1d045b5": {
          "model_module": "@jupyter-widgets/controls",
          "model_name": "FloatProgressModel",
          "model_module_version": "1.5.0",
          "state": {
            "_dom_classes": [],
            "_model_module": "@jupyter-widgets/controls",
            "_model_module_version": "1.5.0",
            "_model_name": "FloatProgressModel",
            "_view_count": null,
            "_view_module": "@jupyter-widgets/controls",
            "_view_module_version": "1.5.0",
            "_view_name": "ProgressView",
            "bar_style": "success",
            "description": "",
            "description_tooltip": null,
            "layout": "IPY_MODEL_e06be459b370481480d41c1d98378114",
            "max": 711396,
            "min": 0,
            "orientation": "horizontal",
            "style": "IPY_MODEL_24e84f62ceab45b98b42477cec885d5e",
            "value": 711396
          }
        },
        "219e61d9e1b34aa8aba361dddf93ce41": {
          "model_module": "@jupyter-widgets/controls",
          "model_name": "HTMLModel",
          "model_module_version": "1.5.0",
          "state": {
            "_dom_classes": [],
            "_model_module": "@jupyter-widgets/controls",
            "_model_module_version": "1.5.0",
            "_model_name": "HTMLModel",
            "_view_count": null,
            "_view_module": "@jupyter-widgets/controls",
            "_view_module_version": "1.5.0",
            "_view_name": "HTMLView",
            "description": "",
            "description_tooltip": null,
            "layout": "IPY_MODEL_ba6392d58557496fb654eaf1140d4dd5",
            "placeholder": "​",
            "style": "IPY_MODEL_76640e0e874e45d2962c5e2209a73e54",
            "value": " 711k/711k [00:00&lt;00:00, 3.60MB/s]"
          }
        },
        "ce9d1e2757ad4e958b68926c7d362637": {
          "model_module": "@jupyter-widgets/base",
          "model_name": "LayoutModel",
          "model_module_version": "1.2.0",
          "state": {
            "_model_module": "@jupyter-widgets/base",
            "_model_module_version": "1.2.0",
            "_model_name": "LayoutModel",
            "_view_count": null,
            "_view_module": "@jupyter-widgets/base",
            "_view_module_version": "1.2.0",
            "_view_name": "LayoutView",
            "align_content": null,
            "align_items": null,
            "align_self": null,
            "border": null,
            "bottom": null,
            "display": null,
            "flex": null,
            "flex_flow": null,
            "grid_area": null,
            "grid_auto_columns": null,
            "grid_auto_flow": null,
            "grid_auto_rows": null,
            "grid_column": null,
            "grid_gap": null,
            "grid_row": null,
            "grid_template_areas": null,
            "grid_template_columns": null,
            "grid_template_rows": null,
            "height": null,
            "justify_content": null,
            "justify_items": null,
            "left": null,
            "margin": null,
            "max_height": null,
            "max_width": null,
            "min_height": null,
            "min_width": null,
            "object_fit": null,
            "object_position": null,
            "order": null,
            "overflow": null,
            "overflow_x": null,
            "overflow_y": null,
            "padding": null,
            "right": null,
            "top": null,
            "visibility": null,
            "width": null
          }
        },
        "4768b95b11274506a437b7808cbf249d": {
          "model_module": "@jupyter-widgets/base",
          "model_name": "LayoutModel",
          "model_module_version": "1.2.0",
          "state": {
            "_model_module": "@jupyter-widgets/base",
            "_model_module_version": "1.2.0",
            "_model_name": "LayoutModel",
            "_view_count": null,
            "_view_module": "@jupyter-widgets/base",
            "_view_module_version": "1.2.0",
            "_view_name": "LayoutView",
            "align_content": null,
            "align_items": null,
            "align_self": null,
            "border": null,
            "bottom": null,
            "display": null,
            "flex": null,
            "flex_flow": null,
            "grid_area": null,
            "grid_auto_columns": null,
            "grid_auto_flow": null,
            "grid_auto_rows": null,
            "grid_column": null,
            "grid_gap": null,
            "grid_row": null,
            "grid_template_areas": null,
            "grid_template_columns": null,
            "grid_template_rows": null,
            "height": null,
            "justify_content": null,
            "justify_items": null,
            "left": null,
            "margin": null,
            "max_height": null,
            "max_width": null,
            "min_height": null,
            "min_width": null,
            "object_fit": null,
            "object_position": null,
            "order": null,
            "overflow": null,
            "overflow_x": null,
            "overflow_y": null,
            "padding": null,
            "right": null,
            "top": null,
            "visibility": null,
            "width": null
          }
        },
        "43853c7dff0942038264261da9e02612": {
          "model_module": "@jupyter-widgets/controls",
          "model_name": "DescriptionStyleModel",
          "model_module_version": "1.5.0",
          "state": {
            "_model_module": "@jupyter-widgets/controls",
            "_model_module_version": "1.5.0",
            "_model_name": "DescriptionStyleModel",
            "_view_count": null,
            "_view_module": "@jupyter-widgets/base",
            "_view_module_version": "1.2.0",
            "_view_name": "StyleView",
            "description_width": ""
          }
        },
        "e06be459b370481480d41c1d98378114": {
          "model_module": "@jupyter-widgets/base",
          "model_name": "LayoutModel",
          "model_module_version": "1.2.0",
          "state": {
            "_model_module": "@jupyter-widgets/base",
            "_model_module_version": "1.2.0",
            "_model_name": "LayoutModel",
            "_view_count": null,
            "_view_module": "@jupyter-widgets/base",
            "_view_module_version": "1.2.0",
            "_view_name": "LayoutView",
            "align_content": null,
            "align_items": null,
            "align_self": null,
            "border": null,
            "bottom": null,
            "display": null,
            "flex": null,
            "flex_flow": null,
            "grid_area": null,
            "grid_auto_columns": null,
            "grid_auto_flow": null,
            "grid_auto_rows": null,
            "grid_column": null,
            "grid_gap": null,
            "grid_row": null,
            "grid_template_areas": null,
            "grid_template_columns": null,
            "grid_template_rows": null,
            "height": null,
            "justify_content": null,
            "justify_items": null,
            "left": null,
            "margin": null,
            "max_height": null,
            "max_width": null,
            "min_height": null,
            "min_width": null,
            "object_fit": null,
            "object_position": null,
            "order": null,
            "overflow": null,
            "overflow_x": null,
            "overflow_y": null,
            "padding": null,
            "right": null,
            "top": null,
            "visibility": null,
            "width": null
          }
        },
        "24e84f62ceab45b98b42477cec885d5e": {
          "model_module": "@jupyter-widgets/controls",
          "model_name": "ProgressStyleModel",
          "model_module_version": "1.5.0",
          "state": {
            "_model_module": "@jupyter-widgets/controls",
            "_model_module_version": "1.5.0",
            "_model_name": "ProgressStyleModel",
            "_view_count": null,
            "_view_module": "@jupyter-widgets/base",
            "_view_module_version": "1.2.0",
            "_view_name": "StyleView",
            "bar_color": null,
            "description_width": ""
          }
        },
        "ba6392d58557496fb654eaf1140d4dd5": {
          "model_module": "@jupyter-widgets/base",
          "model_name": "LayoutModel",
          "model_module_version": "1.2.0",
          "state": {
            "_model_module": "@jupyter-widgets/base",
            "_model_module_version": "1.2.0",
            "_model_name": "LayoutModel",
            "_view_count": null,
            "_view_module": "@jupyter-widgets/base",
            "_view_module_version": "1.2.0",
            "_view_name": "LayoutView",
            "align_content": null,
            "align_items": null,
            "align_self": null,
            "border": null,
            "bottom": null,
            "display": null,
            "flex": null,
            "flex_flow": null,
            "grid_area": null,
            "grid_auto_columns": null,
            "grid_auto_flow": null,
            "grid_auto_rows": null,
            "grid_column": null,
            "grid_gap": null,
            "grid_row": null,
            "grid_template_areas": null,
            "grid_template_columns": null,
            "grid_template_rows": null,
            "height": null,
            "justify_content": null,
            "justify_items": null,
            "left": null,
            "margin": null,
            "max_height": null,
            "max_width": null,
            "min_height": null,
            "min_width": null,
            "object_fit": null,
            "object_position": null,
            "order": null,
            "overflow": null,
            "overflow_x": null,
            "overflow_y": null,
            "padding": null,
            "right": null,
            "top": null,
            "visibility": null,
            "width": null
          }
        },
        "76640e0e874e45d2962c5e2209a73e54": {
          "model_module": "@jupyter-widgets/controls",
          "model_name": "DescriptionStyleModel",
          "model_module_version": "1.5.0",
          "state": {
            "_model_module": "@jupyter-widgets/controls",
            "_model_module_version": "1.5.0",
            "_model_name": "DescriptionStyleModel",
            "_view_count": null,
            "_view_module": "@jupyter-widgets/base",
            "_view_module_version": "1.2.0",
            "_view_name": "StyleView",
            "description_width": ""
          }
        },
        "dfdfe2fde67440c4b357f9e068fd636b": {
          "model_module": "@jupyter-widgets/controls",
          "model_name": "HBoxModel",
          "model_module_version": "1.5.0",
          "state": {
            "_dom_classes": [],
            "_model_module": "@jupyter-widgets/controls",
            "_model_module_version": "1.5.0",
            "_model_name": "HBoxModel",
            "_view_count": null,
            "_view_module": "@jupyter-widgets/controls",
            "_view_module_version": "1.5.0",
            "_view_name": "HBoxView",
            "box_style": "",
            "children": [
              "IPY_MODEL_3b171d9ce0c149f49e06a2b12d7884cf",
              "IPY_MODEL_3ba57bbea62b4540864f8b3da4449c03",
              "IPY_MODEL_a566ae86fc5a4e94a30319ceb08db157"
            ],
            "layout": "IPY_MODEL_cd4d99a58f764bfb9ed156960c005daa"
          }
        },
        "3b171d9ce0c149f49e06a2b12d7884cf": {
          "model_module": "@jupyter-widgets/controls",
          "model_name": "HTMLModel",
          "model_module_version": "1.5.0",
          "state": {
            "_dom_classes": [],
            "_model_module": "@jupyter-widgets/controls",
            "_model_module_version": "1.5.0",
            "_model_name": "HTMLModel",
            "_view_count": null,
            "_view_module": "@jupyter-widgets/controls",
            "_view_module_version": "1.5.0",
            "_view_name": "HTMLView",
            "description": "",
            "description_tooltip": null,
            "layout": "IPY_MODEL_f9bea70fe6d54b7c80c78f989085e222",
            "placeholder": "​",
            "style": "IPY_MODEL_78790a61af814811ba48e05e3e5dd183",
            "value": "special_tokens_map.json: 100%"
          }
        },
        "3ba57bbea62b4540864f8b3da4449c03": {
          "model_module": "@jupyter-widgets/controls",
          "model_name": "FloatProgressModel",
          "model_module_version": "1.5.0",
          "state": {
            "_dom_classes": [],
            "_model_module": "@jupyter-widgets/controls",
            "_model_module_version": "1.5.0",
            "_model_name": "FloatProgressModel",
            "_view_count": null,
            "_view_module": "@jupyter-widgets/controls",
            "_view_module_version": "1.5.0",
            "_view_name": "ProgressView",
            "bar_style": "success",
            "description": "",
            "description_tooltip": null,
            "layout": "IPY_MODEL_fd55a83dfdd743cb95c5170d1c71b7fc",
            "max": 125,
            "min": 0,
            "orientation": "horizontal",
            "style": "IPY_MODEL_cb579bfaf0504fa696874bc950d452a6",
            "value": 125
          }
        },
        "a566ae86fc5a4e94a30319ceb08db157": {
          "model_module": "@jupyter-widgets/controls",
          "model_name": "HTMLModel",
          "model_module_version": "1.5.0",
          "state": {
            "_dom_classes": [],
            "_model_module": "@jupyter-widgets/controls",
            "_model_module_version": "1.5.0",
            "_model_name": "HTMLModel",
            "_view_count": null,
            "_view_module": "@jupyter-widgets/controls",
            "_view_module_version": "1.5.0",
            "_view_name": "HTMLView",
            "description": "",
            "description_tooltip": null,
            "layout": "IPY_MODEL_6e906651bba34d11997119e78c8e7dbb",
            "placeholder": "​",
            "style": "IPY_MODEL_573a0e425e4c4ba687f114e0a03a1d40",
            "value": " 125/125 [00:00&lt;00:00, 8.27kB/s]"
          }
        },
        "cd4d99a58f764bfb9ed156960c005daa": {
          "model_module": "@jupyter-widgets/base",
          "model_name": "LayoutModel",
          "model_module_version": "1.2.0",
          "state": {
            "_model_module": "@jupyter-widgets/base",
            "_model_module_version": "1.2.0",
            "_model_name": "LayoutModel",
            "_view_count": null,
            "_view_module": "@jupyter-widgets/base",
            "_view_module_version": "1.2.0",
            "_view_name": "LayoutView",
            "align_content": null,
            "align_items": null,
            "align_self": null,
            "border": null,
            "bottom": null,
            "display": null,
            "flex": null,
            "flex_flow": null,
            "grid_area": null,
            "grid_auto_columns": null,
            "grid_auto_flow": null,
            "grid_auto_rows": null,
            "grid_column": null,
            "grid_gap": null,
            "grid_row": null,
            "grid_template_areas": null,
            "grid_template_columns": null,
            "grid_template_rows": null,
            "height": null,
            "justify_content": null,
            "justify_items": null,
            "left": null,
            "margin": null,
            "max_height": null,
            "max_width": null,
            "min_height": null,
            "min_width": null,
            "object_fit": null,
            "object_position": null,
            "order": null,
            "overflow": null,
            "overflow_x": null,
            "overflow_y": null,
            "padding": null,
            "right": null,
            "top": null,
            "visibility": null,
            "width": null
          }
        },
        "f9bea70fe6d54b7c80c78f989085e222": {
          "model_module": "@jupyter-widgets/base",
          "model_name": "LayoutModel",
          "model_module_version": "1.2.0",
          "state": {
            "_model_module": "@jupyter-widgets/base",
            "_model_module_version": "1.2.0",
            "_model_name": "LayoutModel",
            "_view_count": null,
            "_view_module": "@jupyter-widgets/base",
            "_view_module_version": "1.2.0",
            "_view_name": "LayoutView",
            "align_content": null,
            "align_items": null,
            "align_self": null,
            "border": null,
            "bottom": null,
            "display": null,
            "flex": null,
            "flex_flow": null,
            "grid_area": null,
            "grid_auto_columns": null,
            "grid_auto_flow": null,
            "grid_auto_rows": null,
            "grid_column": null,
            "grid_gap": null,
            "grid_row": null,
            "grid_template_areas": null,
            "grid_template_columns": null,
            "grid_template_rows": null,
            "height": null,
            "justify_content": null,
            "justify_items": null,
            "left": null,
            "margin": null,
            "max_height": null,
            "max_width": null,
            "min_height": null,
            "min_width": null,
            "object_fit": null,
            "object_position": null,
            "order": null,
            "overflow": null,
            "overflow_x": null,
            "overflow_y": null,
            "padding": null,
            "right": null,
            "top": null,
            "visibility": null,
            "width": null
          }
        },
        "78790a61af814811ba48e05e3e5dd183": {
          "model_module": "@jupyter-widgets/controls",
          "model_name": "DescriptionStyleModel",
          "model_module_version": "1.5.0",
          "state": {
            "_model_module": "@jupyter-widgets/controls",
            "_model_module_version": "1.5.0",
            "_model_name": "DescriptionStyleModel",
            "_view_count": null,
            "_view_module": "@jupyter-widgets/base",
            "_view_module_version": "1.2.0",
            "_view_name": "StyleView",
            "description_width": ""
          }
        },
        "fd55a83dfdd743cb95c5170d1c71b7fc": {
          "model_module": "@jupyter-widgets/base",
          "model_name": "LayoutModel",
          "model_module_version": "1.2.0",
          "state": {
            "_model_module": "@jupyter-widgets/base",
            "_model_module_version": "1.2.0",
            "_model_name": "LayoutModel",
            "_view_count": null,
            "_view_module": "@jupyter-widgets/base",
            "_view_module_version": "1.2.0",
            "_view_name": "LayoutView",
            "align_content": null,
            "align_items": null,
            "align_self": null,
            "border": null,
            "bottom": null,
            "display": null,
            "flex": null,
            "flex_flow": null,
            "grid_area": null,
            "grid_auto_columns": null,
            "grid_auto_flow": null,
            "grid_auto_rows": null,
            "grid_column": null,
            "grid_gap": null,
            "grid_row": null,
            "grid_template_areas": null,
            "grid_template_columns": null,
            "grid_template_rows": null,
            "height": null,
            "justify_content": null,
            "justify_items": null,
            "left": null,
            "margin": null,
            "max_height": null,
            "max_width": null,
            "min_height": null,
            "min_width": null,
            "object_fit": null,
            "object_position": null,
            "order": null,
            "overflow": null,
            "overflow_x": null,
            "overflow_y": null,
            "padding": null,
            "right": null,
            "top": null,
            "visibility": null,
            "width": null
          }
        },
        "cb579bfaf0504fa696874bc950d452a6": {
          "model_module": "@jupyter-widgets/controls",
          "model_name": "ProgressStyleModel",
          "model_module_version": "1.5.0",
          "state": {
            "_model_module": "@jupyter-widgets/controls",
            "_model_module_version": "1.5.0",
            "_model_name": "ProgressStyleModel",
            "_view_count": null,
            "_view_module": "@jupyter-widgets/base",
            "_view_module_version": "1.2.0",
            "_view_name": "StyleView",
            "bar_color": null,
            "description_width": ""
          }
        },
        "6e906651bba34d11997119e78c8e7dbb": {
          "model_module": "@jupyter-widgets/base",
          "model_name": "LayoutModel",
          "model_module_version": "1.2.0",
          "state": {
            "_model_module": "@jupyter-widgets/base",
            "_model_module_version": "1.2.0",
            "_model_name": "LayoutModel",
            "_view_count": null,
            "_view_module": "@jupyter-widgets/base",
            "_view_module_version": "1.2.0",
            "_view_name": "LayoutView",
            "align_content": null,
            "align_items": null,
            "align_self": null,
            "border": null,
            "bottom": null,
            "display": null,
            "flex": null,
            "flex_flow": null,
            "grid_area": null,
            "grid_auto_columns": null,
            "grid_auto_flow": null,
            "grid_auto_rows": null,
            "grid_column": null,
            "grid_gap": null,
            "grid_row": null,
            "grid_template_areas": null,
            "grid_template_columns": null,
            "grid_template_rows": null,
            "height": null,
            "justify_content": null,
            "justify_items": null,
            "left": null,
            "margin": null,
            "max_height": null,
            "max_width": null,
            "min_height": null,
            "min_width": null,
            "object_fit": null,
            "object_position": null,
            "order": null,
            "overflow": null,
            "overflow_x": null,
            "overflow_y": null,
            "padding": null,
            "right": null,
            "top": null,
            "visibility": null,
            "width": null
          }
        },
        "573a0e425e4c4ba687f114e0a03a1d40": {
          "model_module": "@jupyter-widgets/controls",
          "model_name": "DescriptionStyleModel",
          "model_module_version": "1.5.0",
          "state": {
            "_model_module": "@jupyter-widgets/controls",
            "_model_module_version": "1.5.0",
            "_model_name": "DescriptionStyleModel",
            "_view_count": null,
            "_view_module": "@jupyter-widgets/base",
            "_view_module_version": "1.2.0",
            "_view_name": "StyleView",
            "description_width": ""
          }
        },
        "fbe88323f16747298436a3e71e1b455e": {
          "model_module": "@jupyter-widgets/controls",
          "model_name": "HBoxModel",
          "model_module_version": "1.5.0",
          "state": {
            "_dom_classes": [],
            "_model_module": "@jupyter-widgets/controls",
            "_model_module_version": "1.5.0",
            "_model_name": "HBoxModel",
            "_view_count": null,
            "_view_module": "@jupyter-widgets/controls",
            "_view_module_version": "1.5.0",
            "_view_name": "HBoxView",
            "box_style": "",
            "children": [
              "IPY_MODEL_418b6b96095348e8ae3b6d9b5b828401",
              "IPY_MODEL_55e4129f131b4e1e94e8f6ebaef44193",
              "IPY_MODEL_9249ea432d1c4d648d9f1e94e7300341"
            ],
            "layout": "IPY_MODEL_3811013a04db449d91030d9923e31da1"
          }
        },
        "418b6b96095348e8ae3b6d9b5b828401": {
          "model_module": "@jupyter-widgets/controls",
          "model_name": "HTMLModel",
          "model_module_version": "1.5.0",
          "state": {
            "_dom_classes": [],
            "_model_module": "@jupyter-widgets/controls",
            "_model_module_version": "1.5.0",
            "_model_name": "HTMLModel",
            "_view_count": null,
            "_view_module": "@jupyter-widgets/controls",
            "_view_module_version": "1.5.0",
            "_view_name": "HTMLView",
            "description": "",
            "description_tooltip": null,
            "layout": "IPY_MODEL_2062ed76bbc4400cba07809a98b70374",
            "placeholder": "​",
            "style": "IPY_MODEL_c51fa59f559f4c6bb48e812dc26bff0f",
            "value": "config.json: 100%"
          }
        },
        "55e4129f131b4e1e94e8f6ebaef44193": {
          "model_module": "@jupyter-widgets/controls",
          "model_name": "FloatProgressModel",
          "model_module_version": "1.5.0",
          "state": {
            "_dom_classes": [],
            "_model_module": "@jupyter-widgets/controls",
            "_model_module_version": "1.5.0",
            "_model_name": "FloatProgressModel",
            "_view_count": null,
            "_view_module": "@jupyter-widgets/controls",
            "_view_module_version": "1.5.0",
            "_view_name": "ProgressView",
            "bar_style": "success",
            "description": "",
            "description_tooltip": null,
            "layout": "IPY_MODEL_b0b5de26a7704d2aaf9957232b77ac0c",
            "max": 2822,
            "min": 0,
            "orientation": "horizontal",
            "style": "IPY_MODEL_2a481e9e885e4afd8876c1586d51ac45",
            "value": 2822
          }
        },
        "9249ea432d1c4d648d9f1e94e7300341": {
          "model_module": "@jupyter-widgets/controls",
          "model_name": "HTMLModel",
          "model_module_version": "1.5.0",
          "state": {
            "_dom_classes": [],
            "_model_module": "@jupyter-widgets/controls",
            "_model_module_version": "1.5.0",
            "_model_name": "HTMLModel",
            "_view_count": null,
            "_view_module": "@jupyter-widgets/controls",
            "_view_module_version": "1.5.0",
            "_view_name": "HTMLView",
            "description": "",
            "description_tooltip": null,
            "layout": "IPY_MODEL_62d44d7d75944909b951d7efab2876ad",
            "placeholder": "​",
            "style": "IPY_MODEL_6ee73f3d86a644b886ed71aa30ca857c",
            "value": " 2.82k/2.82k [00:00&lt;00:00, 108kB/s]"
          }
        },
        "3811013a04db449d91030d9923e31da1": {
          "model_module": "@jupyter-widgets/base",
          "model_name": "LayoutModel",
          "model_module_version": "1.2.0",
          "state": {
            "_model_module": "@jupyter-widgets/base",
            "_model_module_version": "1.2.0",
            "_model_name": "LayoutModel",
            "_view_count": null,
            "_view_module": "@jupyter-widgets/base",
            "_view_module_version": "1.2.0",
            "_view_name": "LayoutView",
            "align_content": null,
            "align_items": null,
            "align_self": null,
            "border": null,
            "bottom": null,
            "display": null,
            "flex": null,
            "flex_flow": null,
            "grid_area": null,
            "grid_auto_columns": null,
            "grid_auto_flow": null,
            "grid_auto_rows": null,
            "grid_column": null,
            "grid_gap": null,
            "grid_row": null,
            "grid_template_areas": null,
            "grid_template_columns": null,
            "grid_template_rows": null,
            "height": null,
            "justify_content": null,
            "justify_items": null,
            "left": null,
            "margin": null,
            "max_height": null,
            "max_width": null,
            "min_height": null,
            "min_width": null,
            "object_fit": null,
            "object_position": null,
            "order": null,
            "overflow": null,
            "overflow_x": null,
            "overflow_y": null,
            "padding": null,
            "right": null,
            "top": null,
            "visibility": null,
            "width": null
          }
        },
        "2062ed76bbc4400cba07809a98b70374": {
          "model_module": "@jupyter-widgets/base",
          "model_name": "LayoutModel",
          "model_module_version": "1.2.0",
          "state": {
            "_model_module": "@jupyter-widgets/base",
            "_model_module_version": "1.2.0",
            "_model_name": "LayoutModel",
            "_view_count": null,
            "_view_module": "@jupyter-widgets/base",
            "_view_module_version": "1.2.0",
            "_view_name": "LayoutView",
            "align_content": null,
            "align_items": null,
            "align_self": null,
            "border": null,
            "bottom": null,
            "display": null,
            "flex": null,
            "flex_flow": null,
            "grid_area": null,
            "grid_auto_columns": null,
            "grid_auto_flow": null,
            "grid_auto_rows": null,
            "grid_column": null,
            "grid_gap": null,
            "grid_row": null,
            "grid_template_areas": null,
            "grid_template_columns": null,
            "grid_template_rows": null,
            "height": null,
            "justify_content": null,
            "justify_items": null,
            "left": null,
            "margin": null,
            "max_height": null,
            "max_width": null,
            "min_height": null,
            "min_width": null,
            "object_fit": null,
            "object_position": null,
            "order": null,
            "overflow": null,
            "overflow_x": null,
            "overflow_y": null,
            "padding": null,
            "right": null,
            "top": null,
            "visibility": null,
            "width": null
          }
        },
        "c51fa59f559f4c6bb48e812dc26bff0f": {
          "model_module": "@jupyter-widgets/controls",
          "model_name": "DescriptionStyleModel",
          "model_module_version": "1.5.0",
          "state": {
            "_model_module": "@jupyter-widgets/controls",
            "_model_module_version": "1.5.0",
            "_model_name": "DescriptionStyleModel",
            "_view_count": null,
            "_view_module": "@jupyter-widgets/base",
            "_view_module_version": "1.2.0",
            "_view_name": "StyleView",
            "description_width": ""
          }
        },
        "b0b5de26a7704d2aaf9957232b77ac0c": {
          "model_module": "@jupyter-widgets/base",
          "model_name": "LayoutModel",
          "model_module_version": "1.2.0",
          "state": {
            "_model_module": "@jupyter-widgets/base",
            "_model_module_version": "1.2.0",
            "_model_name": "LayoutModel",
            "_view_count": null,
            "_view_module": "@jupyter-widgets/base",
            "_view_module_version": "1.2.0",
            "_view_name": "LayoutView",
            "align_content": null,
            "align_items": null,
            "align_self": null,
            "border": null,
            "bottom": null,
            "display": null,
            "flex": null,
            "flex_flow": null,
            "grid_area": null,
            "grid_auto_columns": null,
            "grid_auto_flow": null,
            "grid_auto_rows": null,
            "grid_column": null,
            "grid_gap": null,
            "grid_row": null,
            "grid_template_areas": null,
            "grid_template_columns": null,
            "grid_template_rows": null,
            "height": null,
            "justify_content": null,
            "justify_items": null,
            "left": null,
            "margin": null,
            "max_height": null,
            "max_width": null,
            "min_height": null,
            "min_width": null,
            "object_fit": null,
            "object_position": null,
            "order": null,
            "overflow": null,
            "overflow_x": null,
            "overflow_y": null,
            "padding": null,
            "right": null,
            "top": null,
            "visibility": null,
            "width": null
          }
        },
        "2a481e9e885e4afd8876c1586d51ac45": {
          "model_module": "@jupyter-widgets/controls",
          "model_name": "ProgressStyleModel",
          "model_module_version": "1.5.0",
          "state": {
            "_model_module": "@jupyter-widgets/controls",
            "_model_module_version": "1.5.0",
            "_model_name": "ProgressStyleModel",
            "_view_count": null,
            "_view_module": "@jupyter-widgets/base",
            "_view_module_version": "1.2.0",
            "_view_name": "StyleView",
            "bar_color": null,
            "description_width": ""
          }
        },
        "62d44d7d75944909b951d7efab2876ad": {
          "model_module": "@jupyter-widgets/base",
          "model_name": "LayoutModel",
          "model_module_version": "1.2.0",
          "state": {
            "_model_module": "@jupyter-widgets/base",
            "_model_module_version": "1.2.0",
            "_model_name": "LayoutModel",
            "_view_count": null,
            "_view_module": "@jupyter-widgets/base",
            "_view_module_version": "1.2.0",
            "_view_name": "LayoutView",
            "align_content": null,
            "align_items": null,
            "align_self": null,
            "border": null,
            "bottom": null,
            "display": null,
            "flex": null,
            "flex_flow": null,
            "grid_area": null,
            "grid_auto_columns": null,
            "grid_auto_flow": null,
            "grid_auto_rows": null,
            "grid_column": null,
            "grid_gap": null,
            "grid_row": null,
            "grid_template_areas": null,
            "grid_template_columns": null,
            "grid_template_rows": null,
            "height": null,
            "justify_content": null,
            "justify_items": null,
            "left": null,
            "margin": null,
            "max_height": null,
            "max_width": null,
            "min_height": null,
            "min_width": null,
            "object_fit": null,
            "object_position": null,
            "order": null,
            "overflow": null,
            "overflow_x": null,
            "overflow_y": null,
            "padding": null,
            "right": null,
            "top": null,
            "visibility": null,
            "width": null
          }
        },
        "6ee73f3d86a644b886ed71aa30ca857c": {
          "model_module": "@jupyter-widgets/controls",
          "model_name": "DescriptionStyleModel",
          "model_module_version": "1.5.0",
          "state": {
            "_model_module": "@jupyter-widgets/controls",
            "_model_module_version": "1.5.0",
            "_model_name": "DescriptionStyleModel",
            "_view_count": null,
            "_view_module": "@jupyter-widgets/base",
            "_view_module_version": "1.2.0",
            "_view_name": "StyleView",
            "description_width": ""
          }
        },
        "f25c6be0003547499dbb445808770f5a": {
          "model_module": "@jupyter-widgets/controls",
          "model_name": "HBoxModel",
          "model_module_version": "1.5.0",
          "state": {
            "_dom_classes": [],
            "_model_module": "@jupyter-widgets/controls",
            "_model_module_version": "1.5.0",
            "_model_name": "HBoxModel",
            "_view_count": null,
            "_view_module": "@jupyter-widgets/controls",
            "_view_module_version": "1.5.0",
            "_view_name": "HBoxView",
            "box_style": "",
            "children": [
              "IPY_MODEL_28b2d841111e40f5b583f6abe2eb9487",
              "IPY_MODEL_5d589f28fa1744c99f2559370bb03d29",
              "IPY_MODEL_047cb5fa29fd4282b7ac2cac4022fe06"
            ],
            "layout": "IPY_MODEL_9e50f4e6052f48d99255d206be1f05b6"
          }
        },
        "28b2d841111e40f5b583f6abe2eb9487": {
          "model_module": "@jupyter-widgets/controls",
          "model_name": "HTMLModel",
          "model_module_version": "1.5.0",
          "state": {
            "_dom_classes": [],
            "_model_module": "@jupyter-widgets/controls",
            "_model_module_version": "1.5.0",
            "_model_name": "HTMLModel",
            "_view_count": null,
            "_view_module": "@jupyter-widgets/controls",
            "_view_module_version": "1.5.0",
            "_view_name": "HTMLView",
            "description": "",
            "description_tooltip": null,
            "layout": "IPY_MODEL_d606b2bfe7b749209fbfb3364a501439",
            "placeholder": "​",
            "style": "IPY_MODEL_7d761d7babd7422db0a92ea286e14c6f",
            "value": "model.safetensors: 100%"
          }
        },
        "5d589f28fa1744c99f2559370bb03d29": {
          "model_module": "@jupyter-widgets/controls",
          "model_name": "FloatProgressModel",
          "model_module_version": "1.5.0",
          "state": {
            "_dom_classes": [],
            "_model_module": "@jupyter-widgets/controls",
            "_model_module_version": "1.5.0",
            "_model_name": "FloatProgressModel",
            "_view_count": null,
            "_view_module": "@jupyter-widgets/controls",
            "_view_module_version": "1.5.0",
            "_view_name": "ProgressView",
            "bar_style": "success",
            "description": "",
            "description_tooltip": null,
            "layout": "IPY_MODEL_75d6196597dc4986b7386d45962072e6",
            "max": 706526022,
            "min": 0,
            "orientation": "horizontal",
            "style": "IPY_MODEL_cca1744e3f294e15abfdd49a3907671b",
            "value": 706526022
          }
        },
        "047cb5fa29fd4282b7ac2cac4022fe06": {
          "model_module": "@jupyter-widgets/controls",
          "model_name": "HTMLModel",
          "model_module_version": "1.5.0",
          "state": {
            "_dom_classes": [],
            "_model_module": "@jupyter-widgets/controls",
            "_model_module_version": "1.5.0",
            "_model_name": "HTMLModel",
            "_view_count": null,
            "_view_module": "@jupyter-widgets/controls",
            "_view_module_version": "1.5.0",
            "_view_name": "HTMLView",
            "description": "",
            "description_tooltip": null,
            "layout": "IPY_MODEL_ef8170a68c654e858d02acfff801d652",
            "placeholder": "​",
            "style": "IPY_MODEL_4e93f7352b2a44c59055b1c8d4fe54d3",
            "value": " 707M/707M [00:12&lt;00:00, 44.0MB/s]"
          }
        },
        "9e50f4e6052f48d99255d206be1f05b6": {
          "model_module": "@jupyter-widgets/base",
          "model_name": "LayoutModel",
          "model_module_version": "1.2.0",
          "state": {
            "_model_module": "@jupyter-widgets/base",
            "_model_module_version": "1.2.0",
            "_model_name": "LayoutModel",
            "_view_count": null,
            "_view_module": "@jupyter-widgets/base",
            "_view_module_version": "1.2.0",
            "_view_name": "LayoutView",
            "align_content": null,
            "align_items": null,
            "align_self": null,
            "border": null,
            "bottom": null,
            "display": null,
            "flex": null,
            "flex_flow": null,
            "grid_area": null,
            "grid_auto_columns": null,
            "grid_auto_flow": null,
            "grid_auto_rows": null,
            "grid_column": null,
            "grid_gap": null,
            "grid_row": null,
            "grid_template_areas": null,
            "grid_template_columns": null,
            "grid_template_rows": null,
            "height": null,
            "justify_content": null,
            "justify_items": null,
            "left": null,
            "margin": null,
            "max_height": null,
            "max_width": null,
            "min_height": null,
            "min_width": null,
            "object_fit": null,
            "object_position": null,
            "order": null,
            "overflow": null,
            "overflow_x": null,
            "overflow_y": null,
            "padding": null,
            "right": null,
            "top": null,
            "visibility": null,
            "width": null
          }
        },
        "d606b2bfe7b749209fbfb3364a501439": {
          "model_module": "@jupyter-widgets/base",
          "model_name": "LayoutModel",
          "model_module_version": "1.2.0",
          "state": {
            "_model_module": "@jupyter-widgets/base",
            "_model_module_version": "1.2.0",
            "_model_name": "LayoutModel",
            "_view_count": null,
            "_view_module": "@jupyter-widgets/base",
            "_view_module_version": "1.2.0",
            "_view_name": "LayoutView",
            "align_content": null,
            "align_items": null,
            "align_self": null,
            "border": null,
            "bottom": null,
            "display": null,
            "flex": null,
            "flex_flow": null,
            "grid_area": null,
            "grid_auto_columns": null,
            "grid_auto_flow": null,
            "grid_auto_rows": null,
            "grid_column": null,
            "grid_gap": null,
            "grid_row": null,
            "grid_template_areas": null,
            "grid_template_columns": null,
            "grid_template_rows": null,
            "height": null,
            "justify_content": null,
            "justify_items": null,
            "left": null,
            "margin": null,
            "max_height": null,
            "max_width": null,
            "min_height": null,
            "min_width": null,
            "object_fit": null,
            "object_position": null,
            "order": null,
            "overflow": null,
            "overflow_x": null,
            "overflow_y": null,
            "padding": null,
            "right": null,
            "top": null,
            "visibility": null,
            "width": null
          }
        },
        "7d761d7babd7422db0a92ea286e14c6f": {
          "model_module": "@jupyter-widgets/controls",
          "model_name": "DescriptionStyleModel",
          "model_module_version": "1.5.0",
          "state": {
            "_model_module": "@jupyter-widgets/controls",
            "_model_module_version": "1.5.0",
            "_model_name": "DescriptionStyleModel",
            "_view_count": null,
            "_view_module": "@jupyter-widgets/base",
            "_view_module_version": "1.2.0",
            "_view_name": "StyleView",
            "description_width": ""
          }
        },
        "75d6196597dc4986b7386d45962072e6": {
          "model_module": "@jupyter-widgets/base",
          "model_name": "LayoutModel",
          "model_module_version": "1.2.0",
          "state": {
            "_model_module": "@jupyter-widgets/base",
            "_model_module_version": "1.2.0",
            "_model_name": "LayoutModel",
            "_view_count": null,
            "_view_module": "@jupyter-widgets/base",
            "_view_module_version": "1.2.0",
            "_view_name": "LayoutView",
            "align_content": null,
            "align_items": null,
            "align_self": null,
            "border": null,
            "bottom": null,
            "display": null,
            "flex": null,
            "flex_flow": null,
            "grid_area": null,
            "grid_auto_columns": null,
            "grid_auto_flow": null,
            "grid_auto_rows": null,
            "grid_column": null,
            "grid_gap": null,
            "grid_row": null,
            "grid_template_areas": null,
            "grid_template_columns": null,
            "grid_template_rows": null,
            "height": null,
            "justify_content": null,
            "justify_items": null,
            "left": null,
            "margin": null,
            "max_height": null,
            "max_width": null,
            "min_height": null,
            "min_width": null,
            "object_fit": null,
            "object_position": null,
            "order": null,
            "overflow": null,
            "overflow_x": null,
            "overflow_y": null,
            "padding": null,
            "right": null,
            "top": null,
            "visibility": null,
            "width": null
          }
        },
        "cca1744e3f294e15abfdd49a3907671b": {
          "model_module": "@jupyter-widgets/controls",
          "model_name": "ProgressStyleModel",
          "model_module_version": "1.5.0",
          "state": {
            "_model_module": "@jupyter-widgets/controls",
            "_model_module_version": "1.5.0",
            "_model_name": "ProgressStyleModel",
            "_view_count": null,
            "_view_module": "@jupyter-widgets/base",
            "_view_module_version": "1.2.0",
            "_view_name": "StyleView",
            "bar_color": null,
            "description_width": ""
          }
        },
        "ef8170a68c654e858d02acfff801d652": {
          "model_module": "@jupyter-widgets/base",
          "model_name": "LayoutModel",
          "model_module_version": "1.2.0",
          "state": {
            "_model_module": "@jupyter-widgets/base",
            "_model_module_version": "1.2.0",
            "_model_name": "LayoutModel",
            "_view_count": null,
            "_view_module": "@jupyter-widgets/base",
            "_view_module_version": "1.2.0",
            "_view_name": "LayoutView",
            "align_content": null,
            "align_items": null,
            "align_self": null,
            "border": null,
            "bottom": null,
            "display": null,
            "flex": null,
            "flex_flow": null,
            "grid_area": null,
            "grid_auto_columns": null,
            "grid_auto_flow": null,
            "grid_auto_rows": null,
            "grid_column": null,
            "grid_gap": null,
            "grid_row": null,
            "grid_template_areas": null,
            "grid_template_columns": null,
            "grid_template_rows": null,
            "height": null,
            "justify_content": null,
            "justify_items": null,
            "left": null,
            "margin": null,
            "max_height": null,
            "max_width": null,
            "min_height": null,
            "min_width": null,
            "object_fit": null,
            "object_position": null,
            "order": null,
            "overflow": null,
            "overflow_x": null,
            "overflow_y": null,
            "padding": null,
            "right": null,
            "top": null,
            "visibility": null,
            "width": null
          }
        },
        "4e93f7352b2a44c59055b1c8d4fe54d3": {
          "model_module": "@jupyter-widgets/controls",
          "model_name": "DescriptionStyleModel",
          "model_module_version": "1.5.0",
          "state": {
            "_model_module": "@jupyter-widgets/controls",
            "_model_module_version": "1.5.0",
            "_model_name": "DescriptionStyleModel",
            "_view_count": null,
            "_view_module": "@jupyter-widgets/base",
            "_view_module_version": "1.2.0",
            "_view_name": "StyleView",
            "description_width": ""
          }
        },
        "e905009093234474b8c747269a2e5c94": {
          "model_module": "@jupyter-widgets/controls",
          "model_name": "HBoxModel",
          "model_module_version": "1.5.0",
          "state": {
            "_dom_classes": [],
            "_model_module": "@jupyter-widgets/controls",
            "_model_module_version": "1.5.0",
            "_model_name": "HBoxModel",
            "_view_count": null,
            "_view_module": "@jupyter-widgets/controls",
            "_view_module_version": "1.5.0",
            "_view_name": "HBoxView",
            "box_style": "",
            "children": [
              "IPY_MODEL_61f6730ee30b494bb6f62413b70869d8",
              "IPY_MODEL_7d60d17118744b698bd4243bdeaeba74",
              "IPY_MODEL_c5cbdeac300a4213ac03b3a2bbbccb46"
            ],
            "layout": "IPY_MODEL_8a1ca2acad604fd7bdb7299017677118"
          }
        },
        "61f6730ee30b494bb6f62413b70869d8": {
          "model_module": "@jupyter-widgets/controls",
          "model_name": "HTMLModel",
          "model_module_version": "1.5.0",
          "state": {
            "_dom_classes": [],
            "_model_module": "@jupyter-widgets/controls",
            "_model_module_version": "1.5.0",
            "_model_name": "HTMLModel",
            "_view_count": null,
            "_view_module": "@jupyter-widgets/controls",
            "_view_module_version": "1.5.0",
            "_view_name": "HTMLView",
            "description": "",
            "description_tooltip": null,
            "layout": "IPY_MODEL_f9259255617a4a78ada37867af8bd819",
            "placeholder": "​",
            "style": "IPY_MODEL_19c3d5d0c2364a4bb9f78f8490189961",
            "value": "generation_config.json: 100%"
          }
        },
        "7d60d17118744b698bd4243bdeaeba74": {
          "model_module": "@jupyter-widgets/controls",
          "model_name": "FloatProgressModel",
          "model_module_version": "1.5.0",
          "state": {
            "_dom_classes": [],
            "_model_module": "@jupyter-widgets/controls",
            "_model_module_version": "1.5.0",
            "_model_name": "FloatProgressModel",
            "_view_count": null,
            "_view_module": "@jupyter-widgets/controls",
            "_view_module_version": "1.5.0",
            "_view_name": "ProgressView",
            "bar_style": "success",
            "description": "",
            "description_tooltip": null,
            "layout": "IPY_MODEL_d2c6c24f344049d5ad7b7cf408e4ff07",
            "max": 141,
            "min": 0,
            "orientation": "horizontal",
            "style": "IPY_MODEL_6a02510da5714c0fa05bd09992d231a1",
            "value": 141
          }
        },
        "c5cbdeac300a4213ac03b3a2bbbccb46": {
          "model_module": "@jupyter-widgets/controls",
          "model_name": "HTMLModel",
          "model_module_version": "1.5.0",
          "state": {
            "_dom_classes": [],
            "_model_module": "@jupyter-widgets/controls",
            "_model_module_version": "1.5.0",
            "_model_name": "HTMLModel",
            "_view_count": null,
            "_view_module": "@jupyter-widgets/controls",
            "_view_module_version": "1.5.0",
            "_view_name": "HTMLView",
            "description": "",
            "description_tooltip": null,
            "layout": "IPY_MODEL_96bb6d77b03c49b892eca505e5e04f63",
            "placeholder": "​",
            "style": "IPY_MODEL_da39a5c6614b4c84b753b1989009cf09",
            "value": " 141/141 [00:00&lt;00:00, 10.5kB/s]"
          }
        },
        "8a1ca2acad604fd7bdb7299017677118": {
          "model_module": "@jupyter-widgets/base",
          "model_name": "LayoutModel",
          "model_module_version": "1.2.0",
          "state": {
            "_model_module": "@jupyter-widgets/base",
            "_model_module_version": "1.2.0",
            "_model_name": "LayoutModel",
            "_view_count": null,
            "_view_module": "@jupyter-widgets/base",
            "_view_module_version": "1.2.0",
            "_view_name": "LayoutView",
            "align_content": null,
            "align_items": null,
            "align_self": null,
            "border": null,
            "bottom": null,
            "display": null,
            "flex": null,
            "flex_flow": null,
            "grid_area": null,
            "grid_auto_columns": null,
            "grid_auto_flow": null,
            "grid_auto_rows": null,
            "grid_column": null,
            "grid_gap": null,
            "grid_row": null,
            "grid_template_areas": null,
            "grid_template_columns": null,
            "grid_template_rows": null,
            "height": null,
            "justify_content": null,
            "justify_items": null,
            "left": null,
            "margin": null,
            "max_height": null,
            "max_width": null,
            "min_height": null,
            "min_width": null,
            "object_fit": null,
            "object_position": null,
            "order": null,
            "overflow": null,
            "overflow_x": null,
            "overflow_y": null,
            "padding": null,
            "right": null,
            "top": null,
            "visibility": null,
            "width": null
          }
        },
        "f9259255617a4a78ada37867af8bd819": {
          "model_module": "@jupyter-widgets/base",
          "model_name": "LayoutModel",
          "model_module_version": "1.2.0",
          "state": {
            "_model_module": "@jupyter-widgets/base",
            "_model_module_version": "1.2.0",
            "_model_name": "LayoutModel",
            "_view_count": null,
            "_view_module": "@jupyter-widgets/base",
            "_view_module_version": "1.2.0",
            "_view_name": "LayoutView",
            "align_content": null,
            "align_items": null,
            "align_self": null,
            "border": null,
            "bottom": null,
            "display": null,
            "flex": null,
            "flex_flow": null,
            "grid_area": null,
            "grid_auto_columns": null,
            "grid_auto_flow": null,
            "grid_auto_rows": null,
            "grid_column": null,
            "grid_gap": null,
            "grid_row": null,
            "grid_template_areas": null,
            "grid_template_columns": null,
            "grid_template_rows": null,
            "height": null,
            "justify_content": null,
            "justify_items": null,
            "left": null,
            "margin": null,
            "max_height": null,
            "max_width": null,
            "min_height": null,
            "min_width": null,
            "object_fit": null,
            "object_position": null,
            "order": null,
            "overflow": null,
            "overflow_x": null,
            "overflow_y": null,
            "padding": null,
            "right": null,
            "top": null,
            "visibility": null,
            "width": null
          }
        },
        "19c3d5d0c2364a4bb9f78f8490189961": {
          "model_module": "@jupyter-widgets/controls",
          "model_name": "DescriptionStyleModel",
          "model_module_version": "1.5.0",
          "state": {
            "_model_module": "@jupyter-widgets/controls",
            "_model_module_version": "1.5.0",
            "_model_name": "DescriptionStyleModel",
            "_view_count": null,
            "_view_module": "@jupyter-widgets/base",
            "_view_module_version": "1.2.0",
            "_view_name": "StyleView",
            "description_width": ""
          }
        },
        "d2c6c24f344049d5ad7b7cf408e4ff07": {
          "model_module": "@jupyter-widgets/base",
          "model_name": "LayoutModel",
          "model_module_version": "1.2.0",
          "state": {
            "_model_module": "@jupyter-widgets/base",
            "_model_module_version": "1.2.0",
            "_model_name": "LayoutModel",
            "_view_count": null,
            "_view_module": "@jupyter-widgets/base",
            "_view_module_version": "1.2.0",
            "_view_name": "LayoutView",
            "align_content": null,
            "align_items": null,
            "align_self": null,
            "border": null,
            "bottom": null,
            "display": null,
            "flex": null,
            "flex_flow": null,
            "grid_area": null,
            "grid_auto_columns": null,
            "grid_auto_flow": null,
            "grid_auto_rows": null,
            "grid_column": null,
            "grid_gap": null,
            "grid_row": null,
            "grid_template_areas": null,
            "grid_template_columns": null,
            "grid_template_rows": null,
            "height": null,
            "justify_content": null,
            "justify_items": null,
            "left": null,
            "margin": null,
            "max_height": null,
            "max_width": null,
            "min_height": null,
            "min_width": null,
            "object_fit": null,
            "object_position": null,
            "order": null,
            "overflow": null,
            "overflow_x": null,
            "overflow_y": null,
            "padding": null,
            "right": null,
            "top": null,
            "visibility": null,
            "width": null
          }
        },
        "6a02510da5714c0fa05bd09992d231a1": {
          "model_module": "@jupyter-widgets/controls",
          "model_name": "ProgressStyleModel",
          "model_module_version": "1.5.0",
          "state": {
            "_model_module": "@jupyter-widgets/controls",
            "_model_module_version": "1.5.0",
            "_model_name": "ProgressStyleModel",
            "_view_count": null,
            "_view_module": "@jupyter-widgets/base",
            "_view_module_version": "1.2.0",
            "_view_name": "StyleView",
            "bar_color": null,
            "description_width": ""
          }
        },
        "96bb6d77b03c49b892eca505e5e04f63": {
          "model_module": "@jupyter-widgets/base",
          "model_name": "LayoutModel",
          "model_module_version": "1.2.0",
          "state": {
            "_model_module": "@jupyter-widgets/base",
            "_model_module_version": "1.2.0",
            "_model_name": "LayoutModel",
            "_view_count": null,
            "_view_module": "@jupyter-widgets/base",
            "_view_module_version": "1.2.0",
            "_view_name": "LayoutView",
            "align_content": null,
            "align_items": null,
            "align_self": null,
            "border": null,
            "bottom": null,
            "display": null,
            "flex": null,
            "flex_flow": null,
            "grid_area": null,
            "grid_auto_columns": null,
            "grid_auto_flow": null,
            "grid_auto_rows": null,
            "grid_column": null,
            "grid_gap": null,
            "grid_row": null,
            "grid_template_areas": null,
            "grid_template_columns": null,
            "grid_template_rows": null,
            "height": null,
            "justify_content": null,
            "justify_items": null,
            "left": null,
            "margin": null,
            "max_height": null,
            "max_width": null,
            "min_height": null,
            "min_width": null,
            "object_fit": null,
            "object_position": null,
            "order": null,
            "overflow": null,
            "overflow_x": null,
            "overflow_y": null,
            "padding": null,
            "right": null,
            "top": null,
            "visibility": null,
            "width": null
          }
        },
        "da39a5c6614b4c84b753b1989009cf09": {
          "model_module": "@jupyter-widgets/controls",
          "model_name": "DescriptionStyleModel",
          "model_module_version": "1.5.0",
          "state": {
            "_model_module": "@jupyter-widgets/controls",
            "_model_module_version": "1.5.0",
            "_model_name": "DescriptionStyleModel",
            "_view_count": null,
            "_view_module": "@jupyter-widgets/base",
            "_view_module_version": "1.2.0",
            "_view_name": "StyleView",
            "description_width": ""
          }
        }
      }
    }
  },
  "nbformat": 4,
  "nbformat_minor": 0
}